{
  "nbformat": 4,
  "nbformat_minor": 0,
  "metadata": {
    "colab": {
      "provenance": []
    },
    "kernelspec": {
      "name": "python3",
      "display_name": "Python 3"
    },
    "language_info": {
      "name": "python"
    }
  },
  "cells": [
    {
      "cell_type": "markdown",
      "source": [
        "# DALI 2024 Winter Application - Machine Learning Track\n",
        "### John Guerrerio\n",
        "\n",
        "We now attempt to determine if there is any correlation between different features within the Superstore dataset.  This serves two purposes: informing feature engineering for a classifier to predict if a purchase will make above or below the median profit, and potentially drawing conclusions that would allow the superstore to run more efficiently"
      ],
      "metadata": {
        "id": "9QxZpHZgGbLs"
      }
    },
    {
      "cell_type": "code",
      "execution_count": 10,
      "metadata": {
        "id": "5fIdD1lgDAT4"
      },
      "outputs": [],
      "source": [
        "from scipy.stats import f_oneway\n",
        "import pandas as pd\n",
        "from sklearn import linear_model\n",
        "from sklearn.metrics import r2_score\n",
        "import matplotlib.pyplot as plt\n",
        "import numpy as np"
      ]
    },
    {
      "cell_type": "code",
      "source": [
        "df = pd.read_csv('Superstore.csv')"
      ],
      "metadata": {
        "id": "iJTmyzmTDVXY"
      },
      "execution_count": 11,
      "outputs": []
    },
    {
      "cell_type": "markdown",
      "source": [
        "## Statistical Tests\n",
        "\n",
        "In this section, we use an ANOVA statistical test to determine if there is a statistically significant relationship between profit and various qualitative features in the dataset.  \\\n",
        "\\\n",
        "For all of these tests, we consider alpha < 0.05 to be significant.\\\n",
        "\\\n",
        "To use an ANOVA test, we make the following assumptions:\n",
        "- The distributions of the different categories for the independent variable are normal\n",
        "- The variance of the distributions of the different categories for the independent variable are equal\n",
        "- Each sale is independent from the others"
      ],
      "metadata": {
        "id": "GQNU9u8KEE9T"
      }
    },
    {
      "cell_type": "markdown",
      "source": [
        "### Correlation Between Region and Profit"
      ],
      "metadata": {
        "id": "LeAiEWudFoDZ"
      }
    },
    {
      "cell_type": "code",
      "source": [
        "west = df.loc[df['Region'] == \"West\"][\"Profit\"].dropna().tolist()\n",
        "south = df.loc[df['Region'] == \"South\"][\"Profit\"].dropna().tolist()\n",
        "east = df.loc[df['Region'] == \"Central\"][\"Profit\"].dropna().tolist()\n",
        "central = df.loc[df['Region'] == \"Central\"][\"Profit\"].dropna().tolist()\n",
        "\n",
        "print(f_oneway(west, south, central, east))"
      ],
      "metadata": {
        "id": "sCDjh4YTDclf",
        "colab": {
          "base_uri": "https://localhost:8080/"
        },
        "outputId": "72e57c18-0622-4da7-c689-428cef764317"
      },
      "execution_count": 12,
      "outputs": [
        {
          "output_type": "stream",
          "name": "stdout",
          "text": [
            "F_onewayResult(statistic=5.466615529683573, pvalue=0.0009460319609385047)\n"
          ]
        }
      ]
    },
    {
      "cell_type": "markdown",
      "source": [
        "The results are statistically significant - there is a strong correlation between region and profit"
      ],
      "metadata": {
        "id": "az04ByclIk4l"
      }
    },
    {
      "cell_type": "markdown",
      "source": [
        "### Correlation Between Product Category and Profit"
      ],
      "metadata": {
        "id": "uRHeRi9MFxOt"
      }
    },
    {
      "cell_type": "code",
      "source": [
        "office = df.loc[df['Category'] == \"Office Supplies\"][\"Profit\"].dropna().tolist()\n",
        "furniture = df.loc[df['Category'] == \"Furniture\"][\"Profit\"].dropna().tolist()\n",
        "technology = df.loc[df['Category'] == \"Technology\"][\"Profit\"].dropna().tolist()\n",
        "\n",
        "print(f_oneway(office, furniture, technology))"
      ],
      "metadata": {
        "id": "D7WTx7U5Dfcr",
        "colab": {
          "base_uri": "https://localhost:8080/"
        },
        "outputId": "25f75185-e533-4c36-9d0f-d552b6298e31"
      },
      "execution_count": 13,
      "outputs": [
        {
          "output_type": "stream",
          "name": "stdout",
          "text": [
            "F_onewayResult(statistic=47.883597327054986, pvalue=2.1206374409101864e-21)\n"
          ]
        }
      ]
    },
    {
      "cell_type": "markdown",
      "source": [
        "The results are statistically significant - there is a strong correlation between product category and profit\n"
      ],
      "metadata": {
        "id": "YsfK4IQNIv1r"
      }
    },
    {
      "cell_type": "markdown",
      "source": [
        "### Correlation Between Product Sub-Category and Profit"
      ],
      "metadata": {
        "id": "FS0U1IlDF2vl"
      }
    },
    {
      "cell_type": "code",
      "source": [
        "binders = df.loc[df['Sub-Category'] == \"Binders\"][\"Profit\"].dropna().tolist()\n",
        "paper = df.loc[df['Sub-Category'] == \"Paper\"][\"Profit\"].dropna().tolist()\n",
        "furnishings = df.loc[df['Sub-Category'] == \"Furnishings\"][\"Profit\"].dropna().tolist()\n",
        "phones = df.loc[df['Sub-Category'] == \"Phones\"][\"Profit\"].dropna().tolist()\n",
        "storage = df.loc[df['Sub-Category'] == \"Storage\"][\"Profit\"].dropna().tolist()\n",
        "art = df.loc[df['Sub-Category'] == \"Art\"][\"Profit\"].dropna().tolist()\n",
        "accessories = df.loc[df['Sub-Category'] == \"Accessories\"][\"Profit\"].dropna().tolist()\n",
        "chairs = df.loc[df['Sub-Category'] == \"Chairs\"][\"Profit\"].dropna().tolist()\n",
        "appliances = df.loc[df['Sub-Category'] == \"Appliances\"][\"Profit\"].dropna().tolist()\n",
        "labels = df.loc[df['Sub-Category'] == \"Labels\"][\"Profit\"].dropna().tolist()\n",
        "tables = df.loc[df['Sub-Category'] == \"Tables\"][\"Profit\"].dropna().tolist()\n",
        "envelopes = df.loc[df['Sub-Category'] == \"Envelopes\"][\"Profit\"].dropna().tolist()\n",
        "bookcases = df.loc[df['Sub-Category'] == \"Bookcases\"][\"Profit\"].dropna().tolist()\n",
        "fasteners = df.loc[df['Sub-Category'] == \"Fasteners\"][\"Profit\"].dropna().tolist()\n",
        "supplies = df.loc[df['Sub-Category'] == \"Supplies\"][\"Profit\"].dropna().tolist()\n",
        "machines = df.loc[df['Sub-Category'] == \"Machines\"][\"Profit\"].dropna().tolist()\n",
        "copiers = df.loc[df['Sub-Category'] == \"Copiers\"][\"Profit\"].dropna().tolist()\n",
        "\n",
        "print(f_oneway(binders, paper, furnishings, phones, storage, art, accessories, chairs, appliances, labels,\n",
        "               tables, envelopes, bookcases, fasteners, supplies, machines, copiers))"
      ],
      "metadata": {
        "id": "7db8PMMgDj5E",
        "colab": {
          "base_uri": "https://localhost:8080/"
        },
        "outputId": "ab828c90-24e0-411a-800e-1cafd915d9ed"
      },
      "execution_count": 14,
      "outputs": [
        {
          "output_type": "stream",
          "name": "stdout",
          "text": [
            "F_onewayResult(statistic=48.35207803298308, pvalue=5.206200411171667e-147)\n"
          ]
        }
      ]
    },
    {
      "cell_type": "markdown",
      "source": [
        "The results are statistically significant - there is a strong correlation between product sub-category and profit"
      ],
      "metadata": {
        "id": "Z7IDW7bgI02W"
      }
    },
    {
      "cell_type": "markdown",
      "source": [
        "### Correlation Between Ship Mode and Profit"
      ],
      "metadata": {
        "id": "0BBtf1ayF7M4"
      }
    },
    {
      "cell_type": "code",
      "source": [
        "standard = df.loc[df['Ship Mode'] == \"Standard Class\"][\"Profit\"].dropna().tolist()\n",
        "second = df.loc[df['Ship Mode'] == \"Second Class\"][\"Profit\"].dropna().tolist()\n",
        "first = df.loc[df['Ship Mode'] == \"First Class\"][\"Profit\"].dropna().tolist()\n",
        "same = df.loc[df['Ship Mode'] == \"Same Day\"][\"Profit\"].dropna().tolist()\n",
        "\n",
        "print(f_oneway(standard, second, first, same))"
      ],
      "metadata": {
        "id": "wxkrJh7YDtMa",
        "colab": {
          "base_uri": "https://localhost:8080/"
        },
        "outputId": "db8b23a9-5d21-493c-abcc-3514c8d24184"
      },
      "execution_count": 15,
      "outputs": [
        {
          "output_type": "stream",
          "name": "stdout",
          "text": [
            "F_onewayResult(statistic=0.29844951666145975, pvalue=0.8265487674803774)\n"
          ]
        }
      ]
    },
    {
      "cell_type": "markdown",
      "source": [
        "The results are not statistically significant - there is no correlation between ship mode and profit\n",
        "\n",
        "\n",
        "\n"
      ],
      "metadata": {
        "id": "mf2uZEM_I4z0"
      }
    },
    {
      "cell_type": "markdown",
      "source": [
        "### Correlation Between Segment and Profit"
      ],
      "metadata": {
        "id": "ukc96nkaF-g5"
      }
    },
    {
      "cell_type": "code",
      "source": [
        "consumer = df.loc[df['Segment'] == \"Consumer\"][\"Profit\"].dropna().tolist()\n",
        "corporate = df.loc[df['Segment'] == \"Corporate\"][\"Profit\"].dropna().tolist()\n",
        "office = df.loc[df['Segment'] == \"Home Office\"][\"Profit\"].dropna().tolist()\n",
        "\n",
        "print(f_oneway(consumer, corporate, office))"
      ],
      "metadata": {
        "id": "ddFQzFnQEAFI",
        "colab": {
          "base_uri": "https://localhost:8080/"
        },
        "outputId": "9c0e672c-8c02-4806-f82c-02730890bd97"
      },
      "execution_count": 16,
      "outputs": [
        {
          "output_type": "stream",
          "name": "stdout",
          "text": [
            "F_onewayResult(statistic=1.274058809795741, pvalue=0.27975014762339184)\n"
          ]
        }
      ]
    },
    {
      "cell_type": "markdown",
      "source": [
        "The results are not statistically significant - there is no correlation between product segment and profit\n"
      ],
      "metadata": {
        "id": "kQs6igkVJA0J"
      }
    },
    {
      "cell_type": "markdown",
      "source": [
        "## Regression"
      ],
      "metadata": {
        "id": "hwouH47REHZi"
      }
    },
    {
      "cell_type": "markdown",
      "source": [
        "In this section, we use linear regression to determine if there is a linear relationship between different quantitative features in the dataset.  We use the correlation coefficient to measure the strength of the linear relationship between the two quantitative variables."
      ],
      "metadata": {
        "id": "bK68RHzNJ3_w"
      }
    },
    {
      "cell_type": "markdown",
      "source": [
        "We drop all rows that have a null value for discount, profit, and/or quantity.  As we are assuming data is missing completely at random, this approach will not introduce bias into our results.  On the other hand, replacing all missing values with the median for that column (or another fixed value) could skew the linear regression"
      ],
      "metadata": {
        "id": "QG075TDiKzBb"
      }
    },
    {
      "cell_type": "code",
      "source": [
        "df.dropna(subset=[\"Discount\", \"Profit\", \"Quantity\"], inplace=True)\n",
        "print(\"Number of rows: \" + str(df.shape[0])) # make sure we still have enough rows"
      ],
      "metadata": {
        "id": "IxRLnNVqEI97",
        "colab": {
          "base_uri": "https://localhost:8080/"
        },
        "outputId": "92cd419f-6d7a-42f0-cf66-a6c71930a120"
      },
      "execution_count": 17,
      "outputs": [
        {
          "output_type": "stream",
          "name": "stdout",
          "text": [
            "Number of rows: 7313\n"
          ]
        }
      ]
    },
    {
      "cell_type": "code",
      "source": [
        "discount = df[\"Discount\"].to_numpy().reshape(-1, 1)\n",
        "profit = df[\"Profit\"].to_numpy().reshape(-1, 1)\n",
        "quantity = df[\"Quantity\"].to_numpy().reshape(-1, 1)"
      ],
      "metadata": {
        "id": "uC-IRsLpELGN"
      },
      "execution_count": 18,
      "outputs": []
    },
    {
      "cell_type": "markdown",
      "source": [
        "### Discount to Predict Profit"
      ],
      "metadata": {
        "id": "nPnhzmSCEYje"
      }
    },
    {
      "cell_type": "code",
      "source": [
        "regr = linear_model.LinearRegression()\n",
        "regr.fit(discount, profit)\n",
        "predictions = regr.predict(discount)"
      ],
      "metadata": {
        "id": "_L-8R37WEQVm"
      },
      "execution_count": 19,
      "outputs": []
    },
    {
      "cell_type": "code",
      "source": [
        "print(\"Coefficients: \\n\", regr.coef_)\n",
        "# The coefficient of determination: 1 is perfect prediction\n",
        "print(\"Coefficient of determination: %.2f\" % r2_score(profit, predictions))"
      ],
      "metadata": {
        "id": "w-tMkJDhEb9n",
        "colab": {
          "base_uri": "https://localhost:8080/"
        },
        "outputId": "16424737-8f5d-4ff4-9ee5-312096bae7fb"
      },
      "execution_count": 20,
      "outputs": [
        {
          "output_type": "stream",
          "name": "stdout",
          "text": [
            "Coefficients: \n",
            " [[-243.13355422]]\n",
            "Coefficient of determination: 0.05\n"
          ]
        }
      ]
    },
    {
      "cell_type": "markdown",
      "source": [
        "The correlation coefficient is 0.05, indicating there is little to no linear relationship between discount and proft.\n",
        "\n",
        "---\n",
        "\n"
      ],
      "metadata": {
        "id": "gWSJV48YLc57"
      }
    },
    {
      "cell_type": "code",
      "source": [
        "plt.scatter(discount, profit, color=\"black\")\n",
        "plt.title(\"Profit Plotted Against Discount\")\n",
        "plt.xlabel(\"Discount\")\n",
        "plt.ylabel(\"Profit\")\n",
        "plt.plot(discount, predictions, color=\"blue\", linewidth=3)\n",
        "plt.show()"
      ],
      "metadata": {
        "id": "0II0BFwOEeQz",
        "colab": {
          "base_uri": "https://localhost:8080/",
          "height": 472
        },
        "outputId": "b3a938d4-2073-4bc8-f23a-4034b6261959"
      },
      "execution_count": 21,
      "outputs": [
        {
          "output_type": "display_data",
          "data": {
            "text/plain": [
              "<Figure size 640x480 with 1 Axes>"
            ],
            "image/png": "[encoded data removed]"
          },
          "metadata": {}
        }
      ]
    },
    {
      "cell_type": "markdown",
      "source": [
        "Looking at the scatterplot, it seems there is little to no relationship, linear or otherwise, between profit and discount.\n",
        "\n",
        "\n"
      ],
      "metadata": {
        "id": "Hbdy3kuELnfA"
      }
    },
    {
      "cell_type": "markdown",
      "source": [
        "### Quantity to Predict Profit"
      ],
      "metadata": {
        "id": "mCpJYyFtFJJT"
      }
    },
    {
      "cell_type": "code",
      "source": [
        "regr = linear_model.LinearRegression()\n",
        "regr.fit(quantity, profit)\n",
        "predictions = regr.predict(quantity)"
      ],
      "metadata": {
        "id": "D61JytVKFN5K"
      },
      "execution_count": 22,
      "outputs": []
    },
    {
      "cell_type": "code",
      "source": [
        "print(\"Coefficients: \\n\", regr.coef_)\n",
        "# The coefficient of determination: 1 is perfect prediction\n",
        "print(\"Coefficient of determination: %.2f\" % r2_score(profit, predictions))"
      ],
      "metadata": {
        "id": "tHrqboaIFQyz",
        "colab": {
          "base_uri": "https://localhost:8080/"
        },
        "outputId": "99ba4371-8e5e-423d-c171-bc08e6280d3f"
      },
      "execution_count": 23,
      "outputs": [
        {
          "output_type": "stream",
          "name": "stdout",
          "text": [
            "Coefficients: \n",
            " [[7.53206245]]\n",
            "Coefficient of determination: 0.01\n"
          ]
        }
      ]
    },
    {
      "cell_type": "markdown",
      "source": [
        "The correlation coefficient is 0.01, indicating there is little to no linear relationship between quantity and proft."
      ],
      "metadata": {
        "id": "2dqtn79eMTJW"
      }
    },
    {
      "cell_type": "code",
      "source": [
        "plt.scatter(quantity, profit, color=\"black\")\n",
        "plt.title(\"Quantity Plotted Against Profit\")\n",
        "plt.xlabel(\"Quantity\")\n",
        "plt.ylabel(\"Profit\")\n",
        "plt.plot(quantity, predictions, color=\"blue\", linewidth=3)\n",
        "plt.show()"
      ],
      "metadata": {
        "id": "Y_Jdb94WFS-A",
        "colab": {
          "base_uri": "https://localhost:8080/",
          "height": 472
        },
        "outputId": "dbaea49d-2b96-4f8a-83b7-8f7d436a5bc2"
      },
      "execution_count": 24,
      "outputs": [
        {
          "output_type": "display_data",
          "data": {
            "text/plain": [
              "<Figure size 640x480 with 1 Axes>"
            ],
            "image/png": "[encoded data removed]"
          },
          "metadata": {}
        }
      ]
    },
    {
      "cell_type": "markdown",
      "source": [
        "Looking at the scatterplot, it seems there is little to no relationship, linear or otherwise, between quantity and profit.\n"
      ],
      "metadata": {
        "id": "cOEXA2FZMZ_h"
      }
    },
    {
      "cell_type": "markdown",
      "source": [
        "### Discount to Predict Quanity"
      ],
      "metadata": {
        "id": "u087N2QHElOO"
      }
    },
    {
      "cell_type": "code",
      "source": [
        "regr = linear_model.LinearRegression()\n",
        "regr.fit(discount, quantity)\n",
        "predictions = regr.predict(discount)"
      ],
      "metadata": {
        "id": "5WVQP0SnEoC1"
      },
      "execution_count": 25,
      "outputs": []
    },
    {
      "cell_type": "code",
      "source": [
        "print(\"Coefficients: \\n\", regr.coef_)\n",
        "# The coefficient of determination: 1 is perfect prediction\n",
        "print(\"Coefficient of determination: %.2f\" % r2_score(quantity, predictions))"
      ],
      "metadata": {
        "id": "ZlLNv0nLFDOY",
        "colab": {
          "base_uri": "https://localhost:8080/"
        },
        "outputId": "ec1805bf-1604-4227-ffa3-508449af8616"
      },
      "execution_count": 26,
      "outputs": [
        {
          "output_type": "stream",
          "name": "stdout",
          "text": [
            "Coefficients: \n",
            " [[0.00976227]]\n",
            "Coefficient of determination: 0.00\n"
          ]
        }
      ]
    },
    {
      "cell_type": "markdown",
      "source": [
        "The correlation coefficient is 0.00, indicating there is no linear relationship between discount and quantity."
      ],
      "metadata": {
        "id": "y-j-pBc2MgwQ"
      }
    },
    {
      "cell_type": "code",
      "source": [
        "plt.scatter(discount, quantity, color=\"black\")\n",
        "plt.title(\"Discount Plotted Against Quantity\")\n",
        "plt.xlabel(\"Discount\")\n",
        "plt.ylabel(\"Quantity\")\n",
        "plt.plot(discount, predictions, color=\"blue\", linewidth=3)\n",
        "plt.show()"
      ],
      "metadata": {
        "id": "dk2PbpziFEw5",
        "colab": {
          "base_uri": "https://localhost:8080/",
          "height": 472
        },
        "outputId": "5eacdb5e-fada-426e-cb44-af3e87a36472"
      },
      "execution_count": 27,
      "outputs": [
        {
          "output_type": "display_data",
          "data": {
            "text/plain": [
              "<Figure size 640x480 with 1 Axes>"
            ],
            "image/png": "[encoded data removed]"
          },
          "metadata": {}
        }
      ]
    },
    {
      "cell_type": "markdown",
      "source": [
        "Looking at the scatterplot, it seems there is little to no relationship, linear or otherwise, between discount and quantity."
      ],
      "metadata": {
        "id": "rsafWAX-MqHC"
      }
    }
  ]
}