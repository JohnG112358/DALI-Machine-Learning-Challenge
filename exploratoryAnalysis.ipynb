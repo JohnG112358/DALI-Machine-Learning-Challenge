{
  "nbformat": 4,
  "nbformat_minor": 0,
  "metadata": {
    "colab": {
      "provenance": []
    },
    "kernelspec": {
      "name": "python3",
      "display_name": "Python 3"
    },
    "language_info": {
      "name": "python"
    }
  },
  "cells": [
    {
      "cell_type": "markdown",
      "source": [
        "# DALI 2024 Winter Application - Machine Learning Track\n",
        "### John Guerrerio\n",
        "\n",
        "The first step of any machine learning project is to get an idea of the general characteristics of the dataset.  This allows us to get a general idea of trends within the dataset and determine interesting areas for analysis."
      ],
      "metadata": {
        "id": "MfKn8iXgNQjM"
      }
    },
    {
      "cell_type": "code",
      "execution_count": 2,
      "metadata": {
        "id": "fkDHRNfAM6GN"
      },
      "outputs": [],
      "source": [
        "import pandas as pd"
      ]
    },
    {
      "cell_type": "code",
      "source": [
        "df = pd.read_csv('Superstore.csv')\n",
        "pd.set_option('display.expand_frame_repr', False)  # turns off truncation when printing the dataset"
      ],
      "metadata": {
        "id": "sQDAvMtGPnMv"
      },
      "execution_count": 3,
      "outputs": []
    },
    {
      "cell_type": "markdown",
      "source": [
        "## General Dataset Information"
      ],
      "metadata": {
        "id": "IMx7wvSbP-E-"
      }
    },
    {
      "cell_type": "code",
      "source": [
        "print(\"Number of rows: \" + str(df.shape[0]))"
      ],
      "metadata": {
        "colab": {
          "base_uri": "https://localhost:8080/"
        },
        "id": "mp3zSaHEPqo9",
        "outputId": "ad4503eb-c157-4c41-c376-49000066bf0d"
      },
      "execution_count": 4,
      "outputs": [
        {
          "output_type": "stream",
          "name": "stdout",
          "text": [
            "Number of rows: 9994\n"
          ]
        }
      ]
    },
    {
      "cell_type": "code",
      "source": [
        "print(\"Headings: \")\n",
        "print(df.columns.values.tolist())"
      ],
      "metadata": {
        "colab": {
          "base_uri": "https://localhost:8080/"
        },
        "id": "iuzZlBYDPuD6",
        "outputId": "1e967529-1ef0-4681-c2df-21bcbabdafa9"
      },
      "execution_count": 5,
      "outputs": [
        {
          "output_type": "stream",
          "name": "stdout",
          "text": [
            "Headings: \n",
            "['Unnamed: 0', 'Row ID', 'Order ID', 'Order Date', 'Ship Date', 'Ship Mode', 'Customer ID', 'Customer Name', 'Segment', 'Country', 'City', 'State', 'Postal Code', 'Region', 'Product ID', 'Category', 'Sub-Category', 'Product Name', 'Sales', 'Quantity', 'Discount', 'Profit']\n"
          ]
        }
      ]
    },
    {
      "cell_type": "code",
      "source": [
        "print(\"Sample rows: \")\n",
        "print(df.head())"
      ],
      "metadata": {
        "colab": {
          "base_uri": "https://localhost:8080/"
        },
        "id": "CDM1MgedPvPf",
        "outputId": "1207f3e8-6115-4798-a53e-faefc4d99226"
      },
      "execution_count": 6,
      "outputs": [
        {
          "output_type": "stream",
          "name": "stdout",
          "text": [
            "Sample rows: \n",
            "   Unnamed: 0  Row ID        Order ID  Order Date   Ship Date       Ship Mode Customer ID    Customer Name    Segment        Country  ... Postal Code Region       Product ID         Category Sub-Category                                       Product Name     Sales Quantity  Discount    Profit\n",
            "0           0     1.0  CA-2016-152156   11/8/2016  11/11/2016             NaN    CG-12520      Claire Gute   Consumer  United States  ...     42420.0  South  FUR-BO-10001798        Furniture    Bookcases                  Bush Somerset Collection Bookcase       NaN      2.0       0.0   41.9136\n",
            "1           1     NaN             NaN   11/8/2016  11/11/2016    Second Class    CG-12520      Claire Gute   Consumer  United States  ...     42420.0  South  FUR-CH-10000454        Furniture       Chairs  Hon Deluxe Fabric Upholstered Stacking Chairs,...  731.9400      3.0       0.0  219.5820\n",
            "2           2     3.0             NaN   6/12/2016   6/16/2016    Second Class    DV-13045  Darrin Van Huff  Corporate  United States  ...     90036.0   West  OFF-LA-10000240  Office Supplies       Labels  Self-Adhesive Address Labels for Typewriters b...   14.6200      2.0       0.0    6.8714\n",
            "3           3     4.0  US-2015-108966  10/11/2015  10/18/2015  Standard Class         NaN   Sean O'Donnell   Consumer  United States  ...     33311.0  South              NaN        Furniture       Tables      Bretford CR4500 Series Slim Rectangular Table  957.5775      5.0       NaN -383.0310\n",
            "4           4     5.0  US-2015-108966  10/11/2015  10/18/2015  Standard Class    SO-20335              NaN   Consumer  United States  ...     33311.0  South  OFF-ST-10000760  Office Supplies      Storage                     Eldon Fold 'N Roll Cart System   22.3680      2.0       0.2    2.5164\n",
            "\n",
            "[5 rows x 22 columns]\n"
          ]
        }
      ]
    },
    {
      "cell_type": "markdown",
      "source": [
        "## Missing Data"
      ],
      "metadata": {
        "id": "nrp49feyQCX4"
      }
    },
    {
      "cell_type": "code",
      "source": [
        "print(\"Order ID: \" + str(df.isnull().sum()))"
      ],
      "metadata": {
        "colab": {
          "base_uri": "https://localhost:8080/"
        },
        "id": "daq53fUeQJZh",
        "outputId": "f88794d1-3af2-4ba1-efb4-53395c8ba97a"
      },
      "execution_count": 7,
      "outputs": [
        {
          "output_type": "stream",
          "name": "stdout",
          "text": [
            "Order ID: Unnamed: 0         0\n",
            "Row ID           999\n",
            "Order ID         999\n",
            "Order Date       999\n",
            "Ship Date        999\n",
            "Ship Mode        999\n",
            "Customer ID      999\n",
            "Customer Name    999\n",
            "Segment          999\n",
            "Country          999\n",
            "City             999\n",
            "State            999\n",
            "Postal Code      999\n",
            "Region           999\n",
            "Product ID       999\n",
            "Category         999\n",
            "Sub-Category     999\n",
            "Product Name     999\n",
            "Sales            999\n",
            "Quantity         999\n",
            "Discount         999\n",
            "Profit           999\n",
            "dtype: int64\n"
          ]
        }
      ]
    },
    {
      "cell_type": "markdown",
      "source": [
        "Surprisingly, there is an equal number of cells missing in each column.  I assume the missing data is missing completely at random (if I had to guess, I would assume random data was removed by the DALI team as part of the challenge).  This means that were we to drop rows missing features of interest, it would not introduce bias into my results.  However, one danger of this approach is that doing so could leave us with too little data to train an effective model.\\\n",
        "\\\n",
        "Alternatively, one could attempt to approximate the missing values.  For the quantitaive columns, one could replace missing cells with the mean or median of the column.  Quantitative cells are harder to find an accurate approximation for, and this would likely require some form of deep learning."
      ],
      "metadata": {
        "id": "iaBV_WueQL_j"
      }
    },
    {
      "cell_type": "markdown",
      "source": [
        "## Exploratory Analysis of Quantitative columns"
      ],
      "metadata": {
        "id": "6y4WX59wRPE-"
      }
    },
    {
      "cell_type": "code",
      "source": [
        "print(\"Quantity: \")\n",
        "print(\"- Mean: \" + str(df[\"Quantity\"].mean()))\n",
        "print(\"- Median: \" + str(df[\"Quantity\"].median()))\n",
        "print(\"- Standard Deviation: \" + str(df[\"Quantity\"].std()))"
      ],
      "metadata": {
        "colab": {
          "base_uri": "https://localhost:8080/"
        },
        "id": "VUXgHpr4RTBF",
        "outputId": "5b26f096-2825-4cfb-d10b-6263ea98d72c"
      },
      "execution_count": 8,
      "outputs": [
        {
          "output_type": "stream",
          "name": "stdout",
          "text": [
            "Quantity: \n",
            "- Mean: 3.7907726514730404\n",
            "- Median: 3.0\n",
            "- Standard Deviation: 2.2318433058628617\n"
          ]
        }
      ]
    },
    {
      "cell_type": "code",
      "source": [
        "print(\"Discount:\")\n",
        "print(\"- Mean: \" + str(df[\"Discount\"].mean()))\n",
        "print(\"- Median: \" + str(df[\"Discount\"].median()))\n",
        "print(\"- Standard Deviation: \" + str(df[\"Discount\"].std()))"
      ],
      "metadata": {
        "colab": {
          "base_uri": "https://localhost:8080/"
        },
        "id": "eIMpI2rXRVrF",
        "outputId": "1103c824-cb30-4403-819f-8f88ee4d4b8e"
      },
      "execution_count": 9,
      "outputs": [
        {
          "output_type": "stream",
          "name": "stdout",
          "text": [
            "Discount:\n",
            "- Mean: 0.15568982768204562\n",
            "- Median: 0.2\n",
            "- Standard Deviation: 0.20505003934840815\n"
          ]
        }
      ]
    },
    {
      "cell_type": "code",
      "source": [
        "print(\"Profit:\")\n",
        "print(\"- Mean: \" + str(df[\"Profit\"].mean()))\n",
        "print(\"- Median: \" + str(df[\"Profit\"].median()))\n",
        "print(\"- Standard Deviation: \" + str(df[\"Profit\"].std()))"
      ],
      "metadata": {
        "colab": {
          "base_uri": "https://localhost:8080/"
        },
        "id": "PQxXsY5ORY_5",
        "outputId": "f401b39c-e505-4418-e132-4e3303b4ae51"
      },
      "execution_count": 10,
      "outputs": [
        {
          "output_type": "stream",
          "name": "stdout",
          "text": [
            "Profit:\n",
            "- Mean: 27.61404870483602\n",
            "- Median: 8.662\n",
            "- Standard Deviation: 228.13239719792657\n"
          ]
        }
      ]
    },
    {
      "cell_type": "markdown",
      "source": [
        "## Exploratory Analysis of Qualitative Columns"
      ],
      "metadata": {
        "id": "awdsIqWrRcGF"
      }
    },
    {
      "cell_type": "code",
      "source": [
        "print(df[\"Ship Mode\"].value_counts())"
      ],
      "metadata": {
        "colab": {
          "base_uri": "https://localhost:8080/"
        },
        "id": "7ErI3jOWRb17",
        "outputId": "e0be8f65-908f-4053-ca12-05014f7a5d4b"
      },
      "execution_count": 11,
      "outputs": [
        {
          "output_type": "stream",
          "name": "stdout",
          "text": [
            "Standard Class    5357\n",
            "Second Class      1747\n",
            "First Class       1389\n",
            "Same Day           502\n",
            "Name: Ship Mode, dtype: int64\n"
          ]
        }
      ]
    },
    {
      "cell_type": "code",
      "source": [
        "print(\"Number of unique customers: \" + str(df[\"Customer ID\"].nunique()))"
      ],
      "metadata": {
        "colab": {
          "base_uri": "https://localhost:8080/"
        },
        "id": "LrkIVBzURwYq",
        "outputId": "121832a2-0a84-4ce6-e3d3-ef5c2ca6a9e0"
      },
      "execution_count": 12,
      "outputs": [
        {
          "output_type": "stream",
          "name": "stdout",
          "text": [
            "Number of unique customers: 793\n"
          ]
        }
      ]
    },
    {
      "cell_type": "code",
      "source": [
        "onePurchase = 0\n",
        "multiplePurcahses = 0\n",
        "purchaseCounts = df[\"Customer ID\"].value_counts()\n",
        "\n",
        "for (customer, count) in purchaseCounts.items():\n",
        "    if count == 1:\n",
        "        onePurchase += 1\n",
        "    else:\n",
        "        multiplePurcahses += 1\n",
        "\n",
        "print(\"One-time customers: \" + str(onePurchase))\n",
        "print(\"Repeat customers: \" + str(multiplePurcahses))\n",
        "print(\"Mean number of purchases per customer: \" + str(purchaseCounts.mean()))\n",
        "print(\"Median number of purchases per customer: \" + str(purchaseCounts.median()))\n",
        "print(\"Standard deviation number of purchases per customer: \" + str(purchaseCounts.std()))"
      ],
      "metadata": {
        "colab": {
          "base_uri": "https://localhost:8080/"
        },
        "id": "riL60C3pRzBi",
        "outputId": "bb641d77-26fd-4e3a-8fd3-a33602046856"
      },
      "execution_count": 13,
      "outputs": [
        {
          "output_type": "stream",
          "name": "stdout",
          "text": [
            "One-time customers: 8\n",
            "Repeat customers: 785\n",
            "Mean number of purchases per customer: 11.343001261034049\n",
            "Median number of purchases per customer: 11.0\n",
            "Standard deviation number of purchases per customer: 5.739582532530191\n"
          ]
        }
      ]
    },
    {
      "cell_type": "code",
      "source": [
        "print(df[\"Segment\"].value_counts())"
      ],
      "metadata": {
        "colab": {
          "base_uri": "https://localhost:8080/"
        },
        "id": "-3YBQ_FKR4G4",
        "outputId": "b2777b86-5b16-4598-efed-f0e9a6ed3d55"
      },
      "execution_count": 14,
      "outputs": [
        {
          "output_type": "stream",
          "name": "stdout",
          "text": [
            "Consumer       4643\n",
            "Corporate      2737\n",
            "Home Office    1615\n",
            "Name: Segment, dtype: int64\n"
          ]
        }
      ]
    },
    {
      "cell_type": "code",
      "source": [
        "print(df[\"Country\"].value_counts())"
      ],
      "metadata": {
        "colab": {
          "base_uri": "https://localhost:8080/"
        },
        "id": "tno82JD8R7FQ",
        "outputId": "24042bee-f583-4708-de47-b6d18edc3d58"
      },
      "execution_count": 15,
      "outputs": [
        {
          "output_type": "stream",
          "name": "stdout",
          "text": [
            "United States    8995\n",
            "Name: Country, dtype: int64\n"
          ]
        }
      ]
    },
    {
      "cell_type": "code",
      "source": [
        "cities = df[\"City\"].value_counts()\n",
        "print(cities.head())  # cities with the top number of purchases"
      ],
      "metadata": {
        "colab": {
          "base_uri": "https://localhost:8080/"
        },
        "id": "k9Q6apoSR999",
        "outputId": "7f91caa2-e719-40e9-d11b-3ccd47d9c374"
      },
      "execution_count": 16,
      "outputs": [
        {
          "output_type": "stream",
          "name": "stdout",
          "text": [
            "New York City    819\n",
            "Los Angeles      687\n",
            "Philadelphia     475\n",
            "San Francisco    460\n",
            "Seattle          380\n",
            "Name: City, dtype: int64\n"
          ]
        }
      ]
    },
    {
      "cell_type": "code",
      "source": [
        "print(\"Number of unique cities: \" + str(len(cities)))"
      ],
      "metadata": {
        "colab": {
          "base_uri": "https://localhost:8080/"
        },
        "id": "IZ8pCVvKSCsu",
        "outputId": "78c8e20f-5528-4821-8aef-b999fc74dc3a"
      },
      "execution_count": 17,
      "outputs": [
        {
          "output_type": "stream",
          "name": "stdout",
          "text": [
            "Number of unique cities: 524\n"
          ]
        }
      ]
    },
    {
      "cell_type": "code",
      "source": [
        "states = df[\"State\"].value_counts()\n",
        "print(states.head())"
      ],
      "metadata": {
        "colab": {
          "base_uri": "https://localhost:8080/"
        },
        "id": "wieKoVXMSFv7",
        "outputId": "94da1378-391f-406e-ed99-067c7d170e8f"
      },
      "execution_count": 18,
      "outputs": [
        {
          "output_type": "stream",
          "name": "stdout",
          "text": [
            "California      1799\n",
            "New York        1030\n",
            "Texas            886\n",
            "Pennsylvania     535\n",
            "Washington       458\n",
            "Name: State, dtype: int64\n"
          ]
        }
      ]
    },
    {
      "cell_type": "code",
      "source": [
        "print(\"Number of unique states: \" + str(len(states)))"
      ],
      "metadata": {
        "colab": {
          "base_uri": "https://localhost:8080/"
        },
        "id": "PhAJk5pLSGXD",
        "outputId": "9c536a78-d4d9-4936-fa63-c9f9c0dd30a5"
      },
      "execution_count": 19,
      "outputs": [
        {
          "output_type": "stream",
          "name": "stdout",
          "text": [
            "Number of unique states: 49\n"
          ]
        }
      ]
    },
    {
      "cell_type": "code",
      "source": [
        "regions = df[\"Region\"].value_counts()\n",
        "print(regions.head())"
      ],
      "metadata": {
        "colab": {
          "base_uri": "https://localhost:8080/"
        },
        "id": "lDkQGMMVSKAO",
        "outputId": "f36494b5-3d95-42db-bf9e-ea20377fbbb9"
      },
      "execution_count": 20,
      "outputs": [
        {
          "output_type": "stream",
          "name": "stdout",
          "text": [
            "West       2877\n",
            "East       2531\n",
            "Central    2127\n",
            "South      1460\n",
            "Name: Region, dtype: int64\n"
          ]
        }
      ]
    },
    {
      "cell_type": "code",
      "source": [
        "category = df[\"Category\"].value_counts()\n",
        "print(category)"
      ],
      "metadata": {
        "id": "ogcPhbv5SYWx",
        "outputId": "a5548360-a804-4f40-bdbf-602a071558d1",
        "colab": {
          "base_uri": "https://localhost:8080/"
        }
      },
      "execution_count": 21,
      "outputs": [
        {
          "output_type": "stream",
          "name": "stdout",
          "text": [
            "Office Supplies    5423\n",
            "Furniture          1909\n",
            "Technology         1663\n",
            "Name: Category, dtype: int64\n"
          ]
        }
      ]
    },
    {
      "cell_type": "code",
      "source": [
        "subCategory = df[\"Sub-Category\"].value_counts()\n",
        "print(subCategory)"
      ],
      "metadata": {
        "id": "CVuQ0YpbScq2",
        "outputId": "d502e406-3ec1-4aa2-96c4-c8a8f6a52025",
        "colab": {
          "base_uri": "https://localhost:8080/"
        }
      },
      "execution_count": 22,
      "outputs": [
        {
          "output_type": "stream",
          "name": "stdout",
          "text": [
            "Binders        1370\n",
            "Paper          1233\n",
            "Furnishings     855\n",
            "Phones          795\n",
            "Storage         763\n",
            "Art             717\n",
            "Accessories     700\n",
            "Chairs          560\n",
            "Appliances      417\n",
            "Labels          329\n",
            "Tables          287\n",
            "Envelopes       225\n",
            "Bookcases       208\n",
            "Fasteners       198\n",
            "Supplies        171\n",
            "Machines        104\n",
            "Copiers          63\n",
            "Name: Sub-Category, dtype: int64\n"
          ]
        }
      ]
    },
    {
      "cell_type": "markdown",
      "source": [
        "## Areas to Explore\n",
        "\n",
        "From this analysis, I see two interesting areas of analysis I will focus the rest of this project on:\n",
        "1. There are a lot of missing cells in the dataset.  We can replace the mising quantitiative cells with the median of the column, but there is no easy fix for missing qualitative cells.  I plan to develop deep-learning based models to predict missing values for the qualitative columns.  Specifically, I plan to predict product category and subcategory from product name.\n",
        "2. The most important column for a superstore in this dataset is the profit of each purchase.  I plan to develop machine-learning based methods to predict if the profit of a purchase will be above or below the median profit."
      ],
      "metadata": {
        "id": "x13MwZq7Nq-1"
      }
    }
  ]
}