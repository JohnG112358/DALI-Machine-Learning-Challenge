{
  "cells": [
    {
      "cell_type": "markdown",
      "metadata": {
        "id": "ldBa3SCP9lfG"
      },
      "source": [
        "# DALI 2024 Winter Application - Machine Learning Track\n",
        "### John Guerrerio\n",
        "\n",
        "The Superstore.csv file is missing 999 entries in each column, incuding the Product Category and Product Sub-Category columns.  As these columns are useful features for predicting the profit of a purchase, approximating values for these missing entries would give us more data to train a machine learning model to predict profit.  This file contains code to train a deep learning based approach to predict product category from product name.  Note that one could easily modify this code to predict product sub-category from product category by changing the classifiaction layer of the model and the code to load the dataset.\n",
        "\n",
        "Areas for expansion:\n",
        "- Hyperparameter tuning (I would perform a grid search using skorch)\n",
        "- Testing different model architectures for the decoder\n",
        "- Testing different pre-trained transformers for the encoder\n",
        "\n"
      ]
    },
    {
      "cell_type": "code",
      "execution_count": 1,
      "metadata": {
        "id": "HYn_PnBludHj"
      },
      "outputs": [],
      "source": [
        "import pandas as pd\n",
        "import transformers\n",
        "import numpy as np\n",
        "import torch\n",
        "from sklearn.model_selection import train_test_split\n",
        "from torch.utils.data import Dataset, DataLoader\n",
        "from torch import nn\n",
        "from tqdm import tqdm\n",
        "from sklearn.metrics import classification_report, confusion_matrix\n",
        "import sys"
      ]
    },
    {
      "cell_type": "markdown",
      "metadata": {
        "id": "Or-VTO_4FfSc"
      },
      "source": [
        "## Prepare the Dataset\n",
        "\n",
        "We first need to prepare the dataset for machine learning.  This involves loading it, generating correct class labels, splitting it into train, validation and test sets, and tokenizing the product names.  \n",
        "\n",
        "Splitting the dataset into train, validation and test sets is important to prevent data leakage.  The purpose of each set is as follows:\n",
        "\n",
        "- Train: The data to train the model on, refining it over time.\n",
        "- Validation: The dataset on which to optimize performance when tuning hyperparameters.\n",
        "- Test: The dataset to evaluate the model on after training and hyperparameter tuning.  This gives an indication of the model's real-world performace.\n",
        "\n",
        "If we train on data outside the train dataset, we will artificially inflate our model's performance because the model will have seen the data in that set before.  Similarly, if we optimize our test set performance when tuning hyperparameters, the test set performance will be artifially inflated and we won't have good means of measuring the model's real world performance.  For this project, we use a 70-15-15 train test validation split.\n"
      ]
    },
    {
      "cell_type": "code",
      "execution_count": 2,
      "metadata": {
        "id": "MxzTgoPD-3E6"
      },
      "outputs": [],
      "source": [
        "RANDOM_STATE = 42 # random seed to ensure results are reproducible\n",
        "BATCH_SIZE = 16 # number of documents in each minibatch for training"
      ]
    },
    {
      "cell_type": "code",
      "execution_count": 3,
      "metadata": {
        "id": "9JSiUQSWvTwz"
      },
      "outputs": [],
      "source": [
        "df = pd.read_csv('Superstore.csv') # requires the Superstore.csv to be uploaded if you are running this in colab"
      ]
    },
    {
      "cell_type": "markdown",
      "metadata": {
        "id": "Fp2Z1wwe8401"
      },
      "source": [
        "The below cell drops all entries with a null category and/or product name.  We are assuming data entries are missing completely at random, so this should not introduce bias into the dataset."
      ]
    },
    {
      "cell_type": "code",
      "execution_count": 4,
      "metadata": {
        "colab": {
          "base_uri": "https://localhost:8080/"
        },
        "id": "ALyz8rtPvaCV",
        "outputId": "47a00b96-df68-451c-da2a-6ec6951c1ca1"
      },
      "outputs": [
        {
          "output_type": "stream",
          "name": "stdout",
          "text": [
            "Number of rows: 8098\n"
          ]
        }
      ],
      "source": [
        "df.dropna(subset=[\"Category\", \"Product Name\"], inplace=True)\n",
        "print(\"Number of rows: \" + str(df.shape[0]))"
      ]
    },
    {
      "cell_type": "code",
      "execution_count": 5,
      "metadata": {
        "colab": {
          "base_uri": "https://localhost:8080/",
          "height": 267,
          "referenced_widgets": [
            "bbde70fbaa864b9cb7eea49bdc6104b3",
            "0589964222c64428affee0154c42d9df",
            "3bca389a1f4a470a98b18924afe82766",
            "239480daca7f457cbca903c6b998b2df",
            "b6501f38cc1845eeabbf023f54d8bc87",
            "dd90fd17f47644b9b1bd2950c6f892ee",
            "9463ab0b6fc24a84af90bb81cee2acec",
            "6cb2a37b5334478f81f26df0972c7e85",
            "bc2ad726332c45e59ccee77401fb1ae7",
            "89ac8210d7f3461c88b48008020dd3d9",
            "be6e1030c31d4909a7aebfc92283c2a8",
            "2144c2a8a92445ff9fe28a49f274e5c7",
            "ea3fa201e46346689890782952c995ec",
            "ac9150a948d441218d3463ba9b92bf25",
            "ad56415f0997470aa720fbf0293d00f2",
            "80bcb50abfa1475bb39697d4b0eec0e7",
            "fa8f0b7adab04d95b339cf08037fd54b",
            "1d3cd86095494be085d88fd636dda6c5",
            "923c8292dff043faa3bb1adf7cd1052c",
            "59bbc85d2cbc4c8db47e2a52d842fa26",
            "034cdd092d8947e89af07161f885bc6c",
            "fe044d3d1e5f45c08c3a254b03d0ec6e",
            "c2db47a89fc346a199c0c20c3482111d",
            "6ee900f9a28c4e34aea3fa32e41c571e",
            "0f0936571b4b4e5ba74a8465a042e3bc",
            "0643feddb30343e2a3d32a526a556437",
            "8a5b4509852d4d4d9b7649451b439460",
            "8100f163a8084c6dbdfb935d1269a09b",
            "8e8cc8087ac840b3979564d3e96af81d",
            "c73dd42144e441019e26ec2c9917a279",
            "8c981a6dd8fe454fb1c7ff6b6bb2ccb6",
            "ef4a2692422e405db2a7eee9ff3416d9",
            "64bcc8d0fc004d27a2f9bb4a6d3ea9a7",
            "6d0279a5584d44d3ab4c4a4f311e0507",
            "21c05b3c390b4764b2ae2f7ee2eefa8e",
            "671fc1014ef842fab5b76e334f125d05",
            "a646e992e6214c5b9400d0c8cab18ba2",
            "68991107d71e4098bcf8fc14ab35114b",
            "647a200e85ba4d3989178c18424b5905",
            "89fb6fc52ce846d8833732ef66a0b5af",
            "6e91a87acb19469ebd3ca0fb98257b6f",
            "90fba1c1af9a4014a3472281e0f4b62e",
            "7b62411ffc9f41c887bab8f797df14d8",
            "6f33115405ea45558b36308a32fc5f93"
          ]
        },
        "id": "il0UwAXzvsjI",
        "outputId": "5478d9ab-d17b-43b4-aace-3bf3e7b4b105"
      },
      "outputs": [
        {
          "output_type": "stream",
          "name": "stderr",
          "text": [
            "/usr/local/lib/python3.10/dist-packages/huggingface_hub/utils/_token.py:88: UserWarning: \n",
            "The secret `HF_TOKEN` does not exist in your Colab secrets.\n",
            "To authenticate with the Hugging Face Hub, create a token in your settings tab (https://huggingface.co/settings/tokens), set it as secret in your Google Colab and restart your session.\n",
            "You will be able to reuse this secret in all of your notebooks.\n",
            "Please note that authentication is recommended but still optional to access public models or datasets.\n",
            "  warnings.warn(\n"
          ]
        },
        {
          "output_type": "display_data",
          "data": {
            "text/plain": [
              "tokenizer_config.json:   0%|          | 0.00/28.0 [00:00<?, ?B/s]"
            ],
            "application/vnd.jupyter.widget-view+json": {
              "version_major": 2,
              "version_minor": 0,
              "model_id": "bbde70fbaa864b9cb7eea49bdc6104b3"
            }
          },
          "metadata": {}
        },
        {
          "output_type": "display_data",
          "data": {
            "text/plain": [
              "vocab.txt:   0%|          | 0.00/232k [00:00<?, ?B/s]"
            ],
            "application/vnd.jupyter.widget-view+json": {
              "version_major": 2,
              "version_minor": 0,
              "model_id": "2144c2a8a92445ff9fe28a49f274e5c7"
            }
          },
          "metadata": {}
        },
        {
          "output_type": "display_data",
          "data": {
            "text/plain": [
              "tokenizer.json:   0%|          | 0.00/466k [00:00<?, ?B/s]"
            ],
            "application/vnd.jupyter.widget-view+json": {
              "version_major": 2,
              "version_minor": 0,
              "model_id": "c2db47a89fc346a199c0c20c3482111d"
            }
          },
          "metadata": {}
        },
        {
          "output_type": "display_data",
          "data": {
            "text/plain": [
              "config.json:   0%|          | 0.00/483 [00:00<?, ?B/s]"
            ],
            "application/vnd.jupyter.widget-view+json": {
              "version_major": 2,
              "version_minor": 0,
              "model_id": "6d0279a5584d44d3ab4c4a4f311e0507"
            }
          },
          "metadata": {}
        }
      ],
      "source": [
        "tokenizer = transformers.DistilBertTokenizer.from_pretrained('distilbert-base-uncased') # load the tokenizer"
      ]
    },
    {
      "cell_type": "code",
      "execution_count": 6,
      "metadata": {
        "colab": {
          "base_uri": "https://localhost:8080/"
        },
        "id": "slkjHcggw52v",
        "outputId": "73d50f98-9c9e-4f7d-9a4d-10313500b9f7"
      },
      "outputs": [
        {
          "output_type": "stream",
          "name": "stdout",
          "text": [
            "0             Furniture\n",
            "1             Furniture\n",
            "2       Office Supplies\n",
            "3             Furniture\n",
            "4       Office Supplies\n",
            "             ...       \n",
            "9988         Technology\n",
            "9990          Furniture\n",
            "9991         Technology\n",
            "9992    Office Supplies\n",
            "9993    Office Supplies\n",
            "Name: Category, Length: 8098, dtype: object\n"
          ]
        }
      ],
      "source": [
        "textLabels = df[\"Category\"]\n",
        "print(textLabels)"
      ]
    },
    {
      "cell_type": "code",
      "execution_count": 7,
      "metadata": {
        "colab": {
          "base_uri": "https://localhost:8080/"
        },
        "id": "2g9tG6H0y8IR",
        "outputId": "d8734351-a3a8-4b0c-e9f8-a6c6ce29b1bf"
      },
      "outputs": [
        {
          "output_type": "stream",
          "name": "stdout",
          "text": [
            "(array(['Furniture', 'Office Supplies', 'Technology'], dtype=object), array([0, 0, 1, ..., 2, 1, 1]))\n"
          ]
        }
      ],
      "source": [
        "names = df[\"Product Name\"].tolist()\n",
        "productLabels=np.unique(df['Category'], return_inverse=True)[1].tolist() # generate numerical labels from product category names\n",
        "print(np.unique(df['Category'], return_inverse=True))"
      ]
    },
    {
      "cell_type": "code",
      "execution_count": 8,
      "metadata": {
        "id": "YdExKgRvyoMq"
      },
      "outputs": [],
      "source": [
        "# shuffles the data and splits it into the train, test, and validation sets\n",
        "train, validAndTest, trainLabels, validAndTestLabels = train_test_split(names, productLabels, test_size=0.3, random_state=RANDOM_STATE)\n",
        "valid, test, validLabels, testLabels = train_test_split(validAndTest, validAndTestLabels, test_size=0.5, random_state=RANDOM_STATE)"
      ]
    },
    {
      "cell_type": "code",
      "execution_count": 9,
      "metadata": {
        "id": "OZ9A8bMoxMD4"
      },
      "outputs": [],
      "source": [
        "# tokenize the product names - turns them into a format the BERT model can understand\n",
        "trainTokenized = tokenizer(train, padding='max_length', max_length = 512, truncation=True, return_tensors='pt', return_attention_mask = True)\n",
        "validTokenized = tokenizer(valid, padding='max_length', max_length = 512, truncation=True, return_tensors='pt', return_attention_mask = True)\n",
        "testTokenized = tokenizer(test, padding='max_length', max_length = 512, truncation=True, return_tensors='pt', return_attention_mask = True)\n",
        "\n",
        "trainTokens = trainTokenized[\"input_ids\"]\n",
        "trainMask = trainTokenized[\"attention_mask\"]\n",
        "\n",
        "validTokens = validTokenized[\"input_ids\"]\n",
        "validMask = validTokenized[\"attention_mask\"]\n",
        "\n",
        "testTokens = testTokenized[\"input_ids\"]\n",
        "testMask = testTokenized[\"attention_mask\"]\n"
      ]
    },
    {
      "cell_type": "code",
      "execution_count": 10,
      "metadata": {
        "colab": {
          "base_uri": "https://localhost:8080/"
        },
        "id": "nDKDr1AOabAd",
        "outputId": "5dfa4293-bf46-4841-ab73-86bf18a45272"
      },
      "outputs": [
        {
          "output_type": "stream",
          "name": "stdout",
          "text": [
            "5668\n",
            "5668\n",
            "\n",
            "1215\n",
            "1215\n",
            "\n",
            "1215\n",
            "1215\n"
          ]
        }
      ],
      "source": [
        "print(len(train))\n",
        "print(len(trainLabels))\n",
        "print()\n",
        "\n",
        "print(len(valid))\n",
        "print(len(validLabels))\n",
        "print()\n",
        "\n",
        "print(len(test))\n",
        "print(len(testLabels))\n"
      ]
    },
    {
      "cell_type": "code",
      "execution_count": 11,
      "metadata": {
        "id": "nhzDsiviGBds"
      },
      "outputs": [],
      "source": [
        "# a class to represent the train, validation, and test sets\n",
        "# the Dataset class handles dividing the data into minibatches and producing the minibatches for us\n",
        "class productNamesDataset(Dataset):\n",
        "  def __init__(self, data, labels, mask):\n",
        "    self.data = data\n",
        "    self.labels = labels\n",
        "    self.mask = mask\n",
        "\n",
        "  def __len__(self):\n",
        "    return len(self.labels)\n",
        "\n",
        "  def __getitem__(self, idx):\n",
        "    return self.data[idx], self.labels[idx], self.mask[idx]"
      ]
    },
    {
      "cell_type": "code",
      "execution_count": 12,
      "metadata": {
        "id": "XzeLJZkpF5B7"
      },
      "outputs": [],
      "source": [
        "# build the dataset objects for train, validation, and test sets\n",
        "trainData = productNamesDataset(trainTokens, trainLabels, trainMask)\n",
        "validData = productNamesDataset(validTokens, validLabels, validMask)\n",
        "testData = productNamesDataset(testTokens, testLabels, testMask)"
      ]
    },
    {
      "cell_type": "code",
      "execution_count": 13,
      "metadata": {
        "id": "yqKTOnL7F5Yw"
      },
      "outputs": [],
      "source": [
        "# build the dataloader objects for train, validation, and test sets\n",
        "trainLoader = DataLoader(trainData, batch_size=BATCH_SIZE)\n",
        "validLoader = DataLoader(validData, batch_size=BATCH_SIZE)\n",
        "testLoader = DataLoader(testData, batch_size=1)"
      ]
    },
    {
      "cell_type": "markdown",
      "metadata": {
        "id": "xvNRPNq9FzsG"
      },
      "source": [
        "## Prepare the Model"
      ]
    },
    {
      "cell_type": "markdown",
      "metadata": {
        "id": "gFVOSyHvU1Pc"
      },
      "source": [
        "The below are the hyperparameters I have chosen for this model.  My first area of expansion to this code would be hyperparameter tuning.  I would perform a grid search using the skorch package.  A grid search is where several possible values for each hyperparmaeter are specified beforehand, and all possible combinations of values of hyperparameters are tested."
      ]
    },
    {
      "cell_type": "code",
      "execution_count": 14,
      "metadata": {
        "id": "MInyizolFyt_"
      },
      "outputs": [],
      "source": [
        "DROPOUT = 0.2 # probability of dropping a node in the linear layer after the BERT encoder\n",
        "ATTN_DROPOUT = 0.2 # probability of dropping a term in the attention equation within the BERT encoder\n",
        "EPOCHS = 4 # number of times we train the model on the full train set\n",
        "LEARNING_RATE = 0.001 # scales how much we update our parameters after each minibatch"
      ]
    },
    {
      "cell_type": "code",
      "execution_count": 15,
      "metadata": {
        "colab": {
          "base_uri": "https://localhost:8080/",
          "height": 49,
          "referenced_widgets": [
            "8994101e17f2493dac889af5fa7396a7",
            "293883a16f38432ba741ed3249ffe57b",
            "b0023189e4174a8eb847d9c5cca3fde9",
            "a1bce7ba75924104952ba83be995ef2d",
            "75ae66f6e6d24d35b040f5873d592ae0",
            "8f7cefe3e2d848ac80a77f7ef91999fd",
            "09b41ce503dd4407b62729c15783947e",
            "c37cbb5360a6484e8004c64dc9e6389a",
            "fa6d94933ca7478e914dab4d3663dfce",
            "c6de9913b29d43a298a9c43633e002c6",
            "703fccb724ef49cd94d7d9314c99b587"
          ]
        },
        "id": "-_USjKt-GibG",
        "outputId": "a202f295-7870-434b-b505-e0c3e3b7bc6c"
      },
      "outputs": [
        {
          "output_type": "display_data",
          "data": {
            "text/plain": [
              "model.safetensors:   0%|          | 0.00/268M [00:00<?, ?B/s]"
            ],
            "application/vnd.jupyter.widget-view+json": {
              "version_major": 2,
              "version_minor": 0,
              "model_id": "8994101e17f2493dac889af5fa7396a7"
            }
          },
          "metadata": {}
        }
      ],
      "source": [
        "# load huggingface pretrained model\n",
        "dbert = transformers.DistilBertModel.from_pretrained('distilbert-base-uncased', dropout=DROPOUT, attention_dropout=ATTN_DROPOUT)"
      ]
    },
    {
      "cell_type": "code",
      "execution_count": 16,
      "metadata": {
        "colab": {
          "base_uri": "https://localhost:8080/"
        },
        "id": "yo2lWpO-H2t5",
        "outputId": "f2e4d228-a410-4b66-84c5-3291ee4f1fd9"
      },
      "outputs": [
        {
          "output_type": "stream",
          "name": "stdout",
          "text": [
            "Using cuda device\n"
          ]
        }
      ],
      "source": [
        "# Get cpu or gpu device for training - THIS CODE WORKS BEST ON A GPU\n",
        "device = \"cuda\" if torch.cuda.is_available() else \"cpu\" # need to change options to train on GPU\n",
        "print(f\"Using {device} device\")"
      ]
    },
    {
      "cell_type": "markdown",
      "metadata": {
        "id": "9fztDQSRHFMA"
      },
      "source": [
        "The class below defines our model architecture for our classifier.  We can think of this model as having an encoder/decoder architecture - the encoder generates a vector capturing document context from each product name, and the decoder uses that vector to generate its predicted class.  In this case, our encoder is the pre-trained BERT model we use, and our decoder is the two linear layers we place on top of our BERT model.  We use the output of the last layer of the BERT model as our context vector, which is a standard practice for natural language processing.  We perform dropout on the first linear layer after our BERT output, which improves regularization and reduces overfitting.  We use a ReLU activation function between our two linear layers, which is one of the most efficient activation functions available for deep learning."
      ]
    },
    {
      "cell_type": "code",
      "execution_count": 17,
      "metadata": {
        "id": "3LM6FsiCJD1D"
      },
      "outputs": [],
      "source": [
        "class DistilBertClassification(nn.Module):\n",
        "    def __init__(self):\n",
        "        super(DistilBertClassification, self).__init__()\n",
        "        # BERT encoder\n",
        "        self.dbert = dbert\n",
        "        # Decoder\n",
        "        self.dropout = nn.Dropout(p=DROPOUT)\n",
        "        self.linear1 = nn.Linear(768,64)\n",
        "        self.ReLu = nn.ReLU()\n",
        "        self.linear2 = nn.Linear(64,3)\n",
        "\n",
        "    def forward(self, tokens, mask):\n",
        "        x = self.dbert(input_ids=tokens, attention_mask=mask)\n",
        "        x = x[\"last_hidden_state\"][:,0,:]\n",
        "        x = self.dropout(x) # dropout on BERT output, prevents overfitting\n",
        "        x = self.linear1(x)\n",
        "        x = self.ReLu(x)\n",
        "        logits = self.linear2(x)\n",
        "        return logits"
      ]
    },
    {
      "cell_type": "code",
      "execution_count": 18,
      "metadata": {
        "colab": {
          "base_uri": "https://localhost:8080/"
        },
        "id": "wGWCcMSJGIIB",
        "outputId": "5410d10d-955b-4a08-b246-182d636cec2d"
      },
      "outputs": [
        {
          "output_type": "stream",
          "name": "stdout",
          "text": [
            "DistilBertClassification(\n",
            "  (dbert): DistilBertModel(\n",
            "    (embeddings): Embeddings(\n",
            "      (word_embeddings): Embedding(30522, 768, padding_idx=0)\n",
            "      (position_embeddings): Embedding(512, 768)\n",
            "      (LayerNorm): LayerNorm((768,), eps=1e-12, elementwise_affine=True)\n",
            "      (dropout): Dropout(p=0.2, inplace=False)\n",
            "    )\n",
            "    (transformer): Transformer(\n",
            "      (layer): ModuleList(\n",
            "        (0-5): 6 x TransformerBlock(\n",
            "          (attention): MultiHeadSelfAttention(\n",
            "            (dropout): Dropout(p=0.2, inplace=False)\n",
            "            (q_lin): Linear(in_features=768, out_features=768, bias=True)\n",
            "            (k_lin): Linear(in_features=768, out_features=768, bias=True)\n",
            "            (v_lin): Linear(in_features=768, out_features=768, bias=True)\n",
            "            (out_lin): Linear(in_features=768, out_features=768, bias=True)\n",
            "          )\n",
            "          (sa_layer_norm): LayerNorm((768,), eps=1e-12, elementwise_affine=True)\n",
            "          (ffn): FFN(\n",
            "            (dropout): Dropout(p=0.2, inplace=False)\n",
            "            (lin1): Linear(in_features=768, out_features=3072, bias=True)\n",
            "            (lin2): Linear(in_features=3072, out_features=768, bias=True)\n",
            "            (activation): GELUActivation()\n",
            "          )\n",
            "          (output_layer_norm): LayerNorm((768,), eps=1e-12, elementwise_affine=True)\n",
            "        )\n",
            "      )\n",
            "    )\n",
            "  )\n",
            "  (dropout): Dropout(p=0.2, inplace=False)\n",
            "  (linear1): Linear(in_features=768, out_features=64, bias=True)\n",
            "  (ReLu): ReLU()\n",
            "  (linear2): Linear(in_features=64, out_features=3, bias=True)\n",
            ")\n"
          ]
        }
      ],
      "source": [
        "# Check the architecture of the model we have created\n",
        "classifier = DistilBertClassification().to(device)\n",
        "print(classifier)"
      ]
    },
    {
      "cell_type": "markdown",
      "metadata": {
        "id": "D2cB37toGbl6"
      },
      "source": [
        "We set the weights and biases of the pre-trained BERT model we use as our encoder to not be updated during our training.  This avoids catastrphic forgetting - where a pretrained large language model \"forgets\" the knowledge it learned from its initial training when it is used for supervised transfer learning."
      ]
    },
    {
      "cell_type": "code",
      "execution_count": 19,
      "metadata": {
        "id": "zmYIprsBJ_IS"
      },
      "outputs": [],
      "source": [
        "for param in classifier.dbert.parameters():\n",
        "    param.requires_grad = False"
      ]
    },
    {
      "cell_type": "code",
      "execution_count": 20,
      "metadata": {
        "colab": {
          "base_uri": "https://localhost:8080/"
        },
        "id": "A2jzebxwKCdP",
        "outputId": "b2cb69db-d8a4-4c45-8cee-7ecb02c77dfd"
      },
      "outputs": [
        {
          "output_type": "stream",
          "name": "stdout",
          "text": [
            "Number of parameters:  66412291\n",
            "Number of trainable parameters:  49411\n"
          ]
        }
      ],
      "source": [
        "# Check the number of total parameters and number of trainable parameters\n",
        "total_params = sum(p.numel() for p in classifier.parameters())\n",
        "total_params_trainable = sum(p.numel() for p in classifier.parameters() if p.requires_grad)\n",
        "print(\"Number of parameters: \", total_params)\n",
        "print(\"Number of trainable parameters: \", total_params_trainable)"
      ]
    },
    {
      "cell_type": "markdown",
      "metadata": {
        "id": "bnaOQpwcGRe2"
      },
      "source": [
        "## Training\n",
        "\n",
        "We now train the model using the hyperparameters we specified above.  At each epoch, we evaluate the model on the validation set.  We use cross entropy loss as our loss function and Adaptive Moment Estimation as our optimization algorithm to determine how we update our parameters.  Both of these choices are standard for deep learning NLP work."
      ]
    },
    {
      "cell_type": "code",
      "execution_count": 21,
      "metadata": {
        "id": "OUQtm4D2KVZI"
      },
      "outputs": [],
      "source": [
        "criterion = torch.nn.CrossEntropyLoss() # softmax and loss for classification layer\n",
        "optimizer = torch.optim.Adam(classifier.parameters(), lr = LEARNING_RATE)"
      ]
    },
    {
      "cell_type": "code",
      "execution_count": 22,
      "metadata": {
        "id": "3nekm_xRKQKw"
      },
      "outputs": [],
      "source": [
        "history = {}\n",
        "history[\"epoch\"]=[]\n",
        "history[\"train_loss\"]=[]\n",
        "history[\"valid_loss\"]=[]\n",
        "history[\"train_accuracy\"]=[]\n",
        "history[\"valid_accuracy\"]=[]"
      ]
    },
    {
      "cell_type": "code",
      "execution_count": 23,
      "metadata": {
        "colab": {
          "base_uri": "https://localhost:8080/"
        },
        "id": "qwiRvcSyR6Aq",
        "outputId": "6871b589-7f09-4031-b805-7fe54be65262"
      },
      "outputs": [
        {
          "output_type": "stream",
          "name": "stderr",
          "text": [
            "100%|██████████| 355/355 [01:36<00:00,  3.68it/s]\n"
          ]
        },
        {
          "output_type": "stream",
          "name": "stdout",
          "text": [
            "Epoch 1\n",
            "\t\t Training Loss:      0.966 \t\t Validation Loss:      0.296\n",
            "\t\t Training Accuracy:    79.940% \t\t Validation Accuracy:    89.383%\n"
          ]
        },
        {
          "output_type": "stream",
          "name": "stderr",
          "text": [
            "100%|██████████| 355/355 [01:35<00:00,  3.71it/s]\n"
          ]
        },
        {
          "output_type": "stream",
          "name": "stdout",
          "text": [
            "Epoch 2\n",
            "\t\t Training Loss:      0.584 \t\t Validation Loss:      0.201\n",
            "\t\t Training Accuracy:    89.591% \t\t Validation Accuracy:    93.416%\n"
          ]
        },
        {
          "output_type": "stream",
          "name": "stderr",
          "text": [
            "100%|██████████| 355/355 [01:35<00:00,  3.71it/s]\n"
          ]
        },
        {
          "output_type": "stream",
          "name": "stdout",
          "text": [
            "Epoch 3\n",
            "\t\t Training Loss:      0.520 \t\t Validation Loss:      0.174\n",
            "\t\t Training Accuracy:    89.926% \t\t Validation Accuracy:    93.992%\n"
          ]
        },
        {
          "output_type": "stream",
          "name": "stderr",
          "text": [
            "100%|██████████| 355/355 [01:35<00:00,  3.71it/s]\n"
          ]
        },
        {
          "output_type": "stream",
          "name": "stdout",
          "text": [
            "Epoch 4\n",
            "\t\t Training Loss:      0.473 \t\t Validation Loss:      0.152\n",
            "\t\t Training Accuracy:    91.196% \t\t Validation Accuracy:    94.979%\n"
          ]
        }
      ],
      "source": [
        "# training loop\n",
        "for e in range(EPOCHS):\n",
        "  classifier.train() # activated dropout\n",
        "\n",
        "  train_loss = 0.0\n",
        "  train_accuracy = []\n",
        "\n",
        "  # loop over each minibatch\n",
        "  for description, labels, mask in tqdm(trainLoader):\n",
        "\n",
        "      # send minibatch to gpu for efficient training\n",
        "      description = description.to(device)\n",
        "      labels = labels.to(device)\n",
        "      mask = mask.to(device)\n",
        "\n",
        "      # Get prediction & loss\n",
        "      prediction = classifier(description, mask)\n",
        "      loss = criterion(prediction, labels)\n",
        "\n",
        "      train_loss += loss.item()\n",
        "\n",
        "      # determine the optimal direction to increment parameters\n",
        "      loss.backward()\n",
        "\n",
        "      # update parameters\n",
        "      optimizer.step()\n",
        "\n",
        "      # zero the gradient so we don't accumulate optimizer steps\n",
        "      optimizer.zero_grad()\n",
        "\n",
        "      train_loss += loss.item()\n",
        "\n",
        "      prediction_index = prediction.argmax(axis=1)\n",
        "      accuracy = (prediction_index==labels)\n",
        "      train_accuracy += accuracy\n",
        "\n",
        "  train_accuracy = (sum(train_accuracy) / len(train_accuracy))\n",
        "\n",
        "  classifier.eval() # turn off dropout for evaluation\n",
        "  valid_loss = 0.0\n",
        "  valid_accuracy = []\n",
        "\n",
        "  with torch.no_grad(): # turn off gradient calculation so we don't train on the validation set\n",
        "    for description, labels, mask in validLoader:\n",
        "\n",
        "      description = description.to(device)\n",
        "      labels = labels.to(device)\n",
        "      mask = mask.to(device)\n",
        "\n",
        "      prediction = classifier(description, mask)\n",
        "      loss = criterion(prediction, labels)\n",
        "\n",
        "      valid_loss += loss.item()\n",
        "\n",
        "      prediction_index = prediction.argmax(axis=1)\n",
        "      accuracy = (prediction_index==labels)\n",
        "      valid_accuracy += (accuracy)\n",
        "\n",
        "  valid_accuracy = (sum(valid_accuracy) / len(valid_accuracy)) # sum sums up the boolean tensors, which themselves have a method to sum up\n",
        "\n",
        "  # keep a record of our training results\n",
        "  history[\"epoch\"].append(e+1)\n",
        "  history[\"train_loss\"].append(train_loss / len(trainLoader))\n",
        "  history[\"valid_loss\"].append(valid_loss / len(validLoader))\n",
        "  history[\"train_accuracy\"].append(train_accuracy)\n",
        "  history[\"valid_accuracy\"].append(valid_accuracy)\n",
        "\n",
        "  # output results\n",
        "  print(f'Epoch {e+1}')\n",
        "  print(f'\\t\\t Training Loss: {train_loss / len(trainLoader) :10.3f} \\t\\t Validation Loss: {valid_loss / len(validLoader) :10.3f}')\n",
        "  print(f'\\t\\t Training Accuracy: {train_accuracy :10.3%} \\t\\t Validation Accuracy: {valid_accuracy :10.3%}')"
      ]
    },
    {
      "cell_type": "markdown",
      "metadata": {
        "id": "8Pz0lhySsOs-"
      },
      "source": [
        "## Evaluation on the Test Set\n",
        "\n",
        "Now that we have trained the model (and optimized the hyperparameters on the validation set) we need to determine how well it would perform in a real-word environment.  This can be done by evaluating its performance on the test set.  By splitting the dataset into train, validation, and test sets, we have ensured the model has not been trained on documents in the test set and we have not \"cheated\" by tuning our hyperparameters to gain optimal performance on the test set.  Therefore, the model's performance on the test set is a good indication of how it would perform in the real world.\\\n",
        "\\\n",
        "0 is the furniture class\\\n",
        "1 is the office supplies class\\\n",
        "2 is the technology class"
      ]
    },
    {
      "cell_type": "code",
      "execution_count": 24,
      "metadata": {
        "id": "AnM7DoHwq3aU",
        "colab": {
          "base_uri": "https://localhost:8080/"
        },
        "outputId": "bc635d1d-6add-4479-89b9-ec22c001c108"
      },
      "outputs": [
        {
          "output_type": "stream",
          "name": "stderr",
          "text": [
            "100%|██████████| 1215/1215 [00:21<00:00, 57.33it/s]\n"
          ]
        }
      ],
      "source": [
        "classifier.eval()\n",
        "\n",
        "groundTruth = np.zeros(len(testLoader)) # holds the labels for the test set\n",
        "predictions = np.zeros(len(testLoader)) # holds the model's predictions on the test set\n",
        "\n",
        "\n",
        "i = 0\n",
        "with torch.no_grad(): # turn off gradient calculation so we don't train on the test set\n",
        "  for description, label, mask in tqdm(testLoader):\n",
        "    description = description.to(device)\n",
        "    label = label.to(device)\n",
        "    mask = mask.to(device)\n",
        "\n",
        "    prediction = classifier(description, mask)\n",
        "    predictedClass = int(prediction.argmax(axis=1).item()) # determine the model's prediction on a test set document\n",
        "    predictions[i] = predictedClass\n",
        "\n",
        "\n",
        "    goldClass = int(label.item())\n",
        "    groundTruth[i] = goldClass\n",
        "\n",
        "    i+= 1"
      ]
    },
    {
      "cell_type": "code",
      "execution_count": 25,
      "metadata": {
        "id": "FEfmuMvnwRpe",
        "colab": {
          "base_uri": "https://localhost:8080/"
        },
        "outputId": "1fe9aa11-5129-4b90-8d29-ea0e09d6bfaf"
      },
      "outputs": [
        {
          "output_type": "stream",
          "name": "stdout",
          "text": [
            "              precision    recall  f1-score   support\n",
            "\n",
            "         0.0       0.95      0.89      0.92       255\n",
            "         1.0       0.95      0.97      0.96       720\n",
            "         2.0       0.96      0.95      0.96       240\n",
            "\n",
            "    accuracy                           0.95      1215\n",
            "   macro avg       0.95      0.94      0.95      1215\n",
            "weighted avg       0.95      0.95      0.95      1215\n",
            "\n"
          ]
        }
      ],
      "source": [
        "print(classification_report(groundTruth, predictions)) # print precision, recall, and f1 for each class and overall"
      ]
    },
    {
      "cell_type": "markdown",
      "metadata": {
        "id": "opEO7BksE50O"
      },
      "source": [
        "From the classification report, we see this model is performing well on the classification task.  The overall accuracy is well above the accuracy we would obtain by guessing the class randomly.  One thing to note is that these kind of deep learning models typically require more memory and time to perform interence than more lightweight models like logistic regression.  However, this model would only need to perform inference once as part of a data pipeline to fill in the missing cells in the superstore dataset.  This is not a task that requires us to prioritize performance, so the accuracy gained from using this type of model is worth the performance trade-off."
      ]
    },
    {
      "cell_type": "code",
      "execution_count": 26,
      "metadata": {
        "id": "BafaTOrowV0r",
        "colab": {
          "base_uri": "https://localhost:8080/"
        },
        "outputId": "5fd875dc-c5a6-4c1e-f13e-19487b285ee6"
      },
      "outputs": [
        {
          "output_type": "stream",
          "name": "stdout",
          "text": [
            "[[228  27   0]\n",
            " [ 11 699  10]\n",
            " [  2   9 229]]\n"
          ]
        }
      ],
      "source": [
        " print(confusion_matrix(groundTruth, predictions)) # print confusion matrix"
      ]
    },
    {
      "cell_type": "markdown",
      "metadata": {
        "id": "MGduIw6eryoX"
      },
      "source": [
        "## Save the Trained Model\n",
        "\n",
        "This allows us to use the model we have created for inference without having to train it again.  This would be useful in a data pipeline where we fill in missing values in the superstore dataset before using it to train another model for a different task. For instance, when predicting the profit of a purchase where product category is a useful feature, using this model to fill in the 999 rows missing product category could give us up to an additional 999 rows to train/test on"
      ]
    },
    {
      "cell_type": "code",
      "execution_count": 27,
      "metadata": {
        "id": "ok8K6L6mplAM",
        "colab": {
          "base_uri": "https://localhost:8080/"
        },
        "outputId": "1ab177d9-d822-4e9c-8a64-8626a3f80214"
      },
      "outputs": [
        {
          "output_type": "stream",
          "name": "stdout",
          "text": [
            "Mounted at /content/gdrive\n"
          ]
        }
      ],
      "source": [
        "# This cell is only necessary if you are running this notebook in Colab\n",
        "from google.colab import drive\n",
        "import os\n",
        "\n",
        "drive.mount('/content/gdrive')"
      ]
    },
    {
      "cell_type": "code",
      "execution_count": 28,
      "metadata": {
        "id": "9H4rv7FPpKdo"
      },
      "outputs": [],
      "source": [
        "path = \"/content/gdrive/MyDrive/ColabOutput/checkpoint.pth\" # path to save to\n",
        "\n",
        "torch.save(classifier.state_dict(), path)"
      ]
    }
  ],
  "metadata": {
    "accelerator": "GPU",
    "colab": {
      "gpuType": "T4",
      "provenance": []
    },
    "kernelspec": {
      "display_name": "Python 3",
      "name": "python3"
    },
    "language_info": {
      "name": "python"
    },
    "widgets": {
      "application/vnd.jupyter.widget-state+json": {
        "bbde70fbaa864b9cb7eea49bdc6104b3": {
          "model_module": "@jupyter-widgets/controls",
          "model_name": "HBoxModel",
          "model_module_version": "1.5.0",
          "state": {
            "_dom_classes": [],
            "_model_module": "@jupyter-widgets/controls",
            "_model_module_version": "1.5.0",
            "_model_name": "HBoxModel",
            "_view_count": null,
            "_view_module": "@jupyter-widgets/controls",
            "_view_module_version": "1.5.0",
            "_view_name": "HBoxView",
            "box_style": "",
            "children": [
              "IPY_MODEL_0589964222c64428affee0154c42d9df",
              "IPY_MODEL_3bca389a1f4a470a98b18924afe82766",
              "IPY_MODEL_239480daca7f457cbca903c6b998b2df"
            ],
            "layout": "IPY_MODEL_b6501f38cc1845eeabbf023f54d8bc87"
          }
        },
        "0589964222c64428affee0154c42d9df": {
          "model_module": "@jupyter-widgets/controls",
          "model_name": "HTMLModel",
          "model_module_version": "1.5.0",
          "state": {
            "_dom_classes": [],
            "_model_module": "@jupyter-widgets/controls",
            "_model_module_version": "1.5.0",
            "_model_name": "HTMLModel",
            "_view_count": null,
            "_view_module": "@jupyter-widgets/controls",
            "_view_module_version": "1.5.0",
            "_view_name": "HTMLView",
            "description": "",
            "description_tooltip": null,
            "layout": "IPY_MODEL_dd90fd17f47644b9b1bd2950c6f892ee",
            "placeholder": "​",
            "style": "IPY_MODEL_9463ab0b6fc24a84af90bb81cee2acec",
            "value": "tokenizer_config.json: 100%"
          }
        },
        "3bca389a1f4a470a98b18924afe82766": {
          "model_module": "@jupyter-widgets/controls",
          "model_name": "FloatProgressModel",
          "model_module_version": "1.5.0",
          "state": {
            "_dom_classes": [],
            "_model_module": "@jupyter-widgets/controls",
            "_model_module_version": "1.5.0",
            "_model_name": "FloatProgressModel",
            "_view_count": null,
            "_view_module": "@jupyter-widgets/controls",
            "_view_module_version": "1.5.0",
            "_view_name": "ProgressView",
            "bar_style": "success",
            "description": "",
            "description_tooltip": null,
            "layout": "IPY_MODEL_6cb2a37b5334478f81f26df0972c7e85",
            "max": 28,
            "min": 0,
            "orientation": "horizontal",
            "style": "IPY_MODEL_bc2ad726332c45e59ccee77401fb1ae7",
            "value": 28
          }
        },
        "239480daca7f457cbca903c6b998b2df": {
          "model_module": "@jupyter-widgets/controls",
          "model_name": "HTMLModel",
          "model_module_version": "1.5.0",
          "state": {
            "_dom_classes": [],
            "_model_module": "@jupyter-widgets/controls",
            "_model_module_version": "1.5.0",
            "_model_name": "HTMLModel",
            "_view_count": null,
            "_view_module": "@jupyter-widgets/controls",
            "_view_module_version": "1.5.0",
            "_view_name": "HTMLView",
            "description": "",
            "description_tooltip": null,
            "layout": "IPY_MODEL_89ac8210d7f3461c88b48008020dd3d9",
            "placeholder": "​",
            "style": "IPY_MODEL_be6e1030c31d4909a7aebfc92283c2a8",
            "value": " 28.0/28.0 [00:00&lt;00:00, 566B/s]"
          }
        },
        "b6501f38cc1845eeabbf023f54d8bc87": {
          "model_module": "@jupyter-widgets/base",
          "model_name": "LayoutModel",
          "model_module_version": "1.2.0",
          "state": {
            "_model_module": "@jupyter-widgets/base",
            "_model_module_version": "1.2.0",
            "_model_name": "LayoutModel",
            "_view_count": null,
            "_view_module": "@jupyter-widgets/base",
            "_view_module_version": "1.2.0",
            "_view_name": "LayoutView",
            "align_content": null,
            "align_items": null,
            "align_self": null,
            "border": null,
            "bottom": null,
            "display": null,
            "flex": null,
            "flex_flow": null,
            "grid_area": null,
            "grid_auto_columns": null,
            "grid_auto_flow": null,
            "grid_auto_rows": null,
            "grid_column": null,
            "grid_gap": null,
            "grid_row": null,
            "grid_template_areas": null,
            "grid_template_columns": null,
            "grid_template_rows": null,
            "height": null,
            "justify_content": null,
            "justify_items": null,
            "left": null,
            "margin": null,
            "max_height": null,
            "max_width": null,
            "min_height": null,
            "min_width": null,
            "object_fit": null,
            "object_position": null,
            "order": null,
            "overflow": null,
            "overflow_x": null,
            "overflow_y": null,
            "padding": null,
            "right": null,
            "top": null,
            "visibility": null,
            "width": null
          }
        },
        "dd90fd17f47644b9b1bd2950c6f892ee": {
          "model_module": "@jupyter-widgets/base",
          "model_name": "LayoutModel",
          "model_module_version": "1.2.0",
          "state": {
            "_model_module": "@jupyter-widgets/base",
            "_model_module_version": "1.2.0",
            "_model_name": "LayoutModel",
            "_view_count": null,
            "_view_module": "@jupyter-widgets/base",
            "_view_module_version": "1.2.0",
            "_view_name": "LayoutView",
            "align_content": null,
            "align_items": null,
            "align_self": null,
            "border": null,
            "bottom": null,
            "display": null,
            "flex": null,
            "flex_flow": null,
            "grid_area": null,
            "grid_auto_columns": null,
            "grid_auto_flow": null,
            "grid_auto_rows": null,
            "grid_column": null,
            "grid_gap": null,
            "grid_row": null,
            "grid_template_areas": null,
            "grid_template_columns": null,
            "grid_template_rows": null,
            "height": null,
            "justify_content": null,
            "justify_items": null,
            "left": null,
            "margin": null,
            "max_height": null,
            "max_width": null,
            "min_height": null,
            "min_width": null,
            "object_fit": null,
            "object_position": null,
            "order": null,
            "overflow": null,
            "overflow_x": null,
            "overflow_y": null,
            "padding": null,
            "right": null,
            "top": null,
            "visibility": null,
            "width": null
          }
        },
        "9463ab0b6fc24a84af90bb81cee2acec": {
          "model_module": "@jupyter-widgets/controls",
          "model_name": "DescriptionStyleModel",
          "model_module_version": "1.5.0",
          "state": {
            "_model_module": "@jupyter-widgets/controls",
            "_model_module_version": "1.5.0",
            "_model_name": "DescriptionStyleModel",
            "_view_count": null,
            "_view_module": "@jupyter-widgets/base",
            "_view_module_version": "1.2.0",
            "_view_name": "StyleView",
            "description_width": ""
          }
        },
        "6cb2a37b5334478f81f26df0972c7e85": {
          "model_module": "@jupyter-widgets/base",
          "model_name": "LayoutModel",
          "model_module_version": "1.2.0",
          "state": {
            "_model_module": "@jupyter-widgets/base",
            "_model_module_version": "1.2.0",
            "_model_name": "LayoutModel",
            "_view_count": null,
            "_view_module": "@jupyter-widgets/base",
            "_view_module_version": "1.2.0",
            "_view_name": "LayoutView",
            "align_content": null,
            "align_items": null,
            "align_self": null,
            "border": null,
            "bottom": null,
            "display": null,
            "flex": null,
            "flex_flow": null,
            "grid_area": null,
            "grid_auto_columns": null,
            "grid_auto_flow": null,
            "grid_auto_rows": null,
            "grid_column": null,
            "grid_gap": null,
            "grid_row": null,
            "grid_template_areas": null,
            "grid_template_columns": null,
            "grid_template_rows": null,
            "height": null,
            "justify_content": null,
            "justify_items": null,
            "left": null,
            "margin": null,
            "max_height": null,
            "max_width": null,
            "min_height": null,
            "min_width": null,
            "object_fit": null,
            "object_position": null,
            "order": null,
            "overflow": null,
            "overflow_x": null,
            "overflow_y": null,
            "padding": null,
            "right": null,
            "top": null,
            "visibility": null,
            "width": null
          }
        },
        "bc2ad726332c45e59ccee77401fb1ae7": {
          "model_module": "@jupyter-widgets/controls",
          "model_name": "ProgressStyleModel",
          "model_module_version": "1.5.0",
          "state": {
            "_model_module": "@jupyter-widgets/controls",
            "_model_module_version": "1.5.0",
            "_model_name": "ProgressStyleModel",
            "_view_count": null,
            "_view_module": "@jupyter-widgets/base",
            "_view_module_version": "1.2.0",
            "_view_name": "StyleView",
            "bar_color": null,
            "description_width": ""
          }
        },
        "89ac8210d7f3461c88b48008020dd3d9": {
          "model_module": "@jupyter-widgets/base",
          "model_name": "LayoutModel",
          "model_module_version": "1.2.0",
          "state": {
            "_model_module": "@jupyter-widgets/base",
            "_model_module_version": "1.2.0",
            "_model_name": "LayoutModel",
            "_view_count": null,
            "_view_module": "@jupyter-widgets/base",
            "_view_module_version": "1.2.0",
            "_view_name": "LayoutView",
            "align_content": null,
            "align_items": null,
            "align_self": null,
            "border": null,
            "bottom": null,
            "display": null,
            "flex": null,
            "flex_flow": null,
            "grid_area": null,
            "grid_auto_columns": null,
            "grid_auto_flow": null,
            "grid_auto_rows": null,
            "grid_column": null,
            "grid_gap": null,
            "grid_row": null,
            "grid_template_areas": null,
            "grid_template_columns": null,
            "grid_template_rows": null,
            "height": null,
            "justify_content": null,
            "justify_items": null,
            "left": null,
            "margin": null,
            "max_height": null,
            "max_width": null,
            "min_height": null,
            "min_width": null,
            "object_fit": null,
            "object_position": null,
            "order": null,
            "overflow": null,
            "overflow_x": null,
            "overflow_y": null,
            "padding": null,
            "right": null,
            "top": null,
            "visibility": null,
            "width": null
          }
        },
        "be6e1030c31d4909a7aebfc92283c2a8": {
          "model_module": "@jupyter-widgets/controls",
          "model_name": "DescriptionStyleModel",
          "model_module_version": "1.5.0",
          "state": {
            "_model_module": "@jupyter-widgets/controls",
            "_model_module_version": "1.5.0",
            "_model_name": "DescriptionStyleModel",
            "_view_count": null,
            "_view_module": "@jupyter-widgets/base",
            "_view_module_version": "1.2.0",
            "_view_name": "StyleView",
            "description_width": ""
          }
        },
        "2144c2a8a92445ff9fe28a49f274e5c7": {
          "model_module": "@jupyter-widgets/controls",
          "model_name": "HBoxModel",
          "model_module_version": "1.5.0",
          "state": {
            "_dom_classes": [],
            "_model_module": "@jupyter-widgets/controls",
            "_model_module_version": "1.5.0",
            "_model_name": "HBoxModel",
            "_view_count": null,
            "_view_module": "@jupyter-widgets/controls",
            "_view_module_version": "1.5.0",
            "_view_name": "HBoxView",
            "box_style": "",
            "children": [
              "IPY_MODEL_ea3fa201e46346689890782952c995ec",
              "IPY_MODEL_ac9150a948d441218d3463ba9b92bf25",
              "IPY_MODEL_ad56415f0997470aa720fbf0293d00f2"
            ],
            "layout": "IPY_MODEL_80bcb50abfa1475bb39697d4b0eec0e7"
          }
        },
        "ea3fa201e46346689890782952c995ec": {
          "model_module": "@jupyter-widgets/controls",
          "model_name": "HTMLModel",
          "model_module_version": "1.5.0",
          "state": {
            "_dom_classes": [],
            "_model_module": "@jupyter-widgets/controls",
            "_model_module_version": "1.5.0",
            "_model_name": "HTMLModel",
            "_view_count": null,
            "_view_module": "@jupyter-widgets/controls",
            "_view_module_version": "1.5.0",
            "_view_name": "HTMLView",
            "description": "",
            "description_tooltip": null,
            "layout": "IPY_MODEL_fa8f0b7adab04d95b339cf08037fd54b",
            "placeholder": "​",
            "style": "IPY_MODEL_1d3cd86095494be085d88fd636dda6c5",
            "value": "vocab.txt: 100%"
          }
        },
        "ac9150a948d441218d3463ba9b92bf25": {
          "model_module": "@jupyter-widgets/controls",
          "model_name": "FloatProgressModel",
          "model_module_version": "1.5.0",
          "state": {
            "_dom_classes": [],
            "_model_module": "@jupyter-widgets/controls",
            "_model_module_version": "1.5.0",
            "_model_name": "FloatProgressModel",
            "_view_count": null,
            "_view_module": "@jupyter-widgets/controls",
            "_view_module_version": "1.5.0",
            "_view_name": "ProgressView",
            "bar_style": "success",
            "description": "",
            "description_tooltip": null,
            "layout": "IPY_MODEL_923c8292dff043faa3bb1adf7cd1052c",
            "max": 231508,
            "min": 0,
            "orientation": "horizontal",
            "style": "IPY_MODEL_59bbc85d2cbc4c8db47e2a52d842fa26",
            "value": 231508
          }
        },
        "ad56415f0997470aa720fbf0293d00f2": {
          "model_module": "@jupyter-widgets/controls",
          "model_name": "HTMLModel",
          "model_module_version": "1.5.0",
          "state": {
            "_dom_classes": [],
            "_model_module": "@jupyter-widgets/controls",
            "_model_module_version": "1.5.0",
            "_model_name": "HTMLModel",
            "_view_count": null,
            "_view_module": "@jupyter-widgets/controls",
            "_view_module_version": "1.5.0",
            "_view_name": "HTMLView",
            "description": "",
            "description_tooltip": null,
            "layout": "IPY_MODEL_034cdd092d8947e89af07161f885bc6c",
            "placeholder": "​",
            "style": "IPY_MODEL_fe044d3d1e5f45c08c3a254b03d0ec6e",
            "value": " 232k/232k [00:00&lt;00:00, 2.25MB/s]"
          }
        },
        "80bcb50abfa1475bb39697d4b0eec0e7": {
          "model_module": "@jupyter-widgets/base",
          "model_name": "LayoutModel",
          "model_module_version": "1.2.0",
          "state": {
            "_model_module": "@jupyter-widgets/base",
            "_model_module_version": "1.2.0",
            "_model_name": "LayoutModel",
            "_view_count": null,
            "_view_module": "@jupyter-widgets/base",
            "_view_module_version": "1.2.0",
            "_view_name": "LayoutView",
            "align_content": null,
            "align_items": null,
            "align_self": null,
            "border": null,
            "bottom": null,
            "display": null,
            "flex": null,
            "flex_flow": null,
            "grid_area": null,
            "grid_auto_columns": null,
            "grid_auto_flow": null,
            "grid_auto_rows": null,
            "grid_column": null,
            "grid_gap": null,
            "grid_row": null,
            "grid_template_areas": null,
            "grid_template_columns": null,
            "grid_template_rows": null,
            "height": null,
            "justify_content": null,
            "justify_items": null,
            "left": null,
            "margin": null,
            "max_height": null,
            "max_width": null,
            "min_height": null,
            "min_width": null,
            "object_fit": null,
            "object_position": null,
            "order": null,
            "overflow": null,
            "overflow_x": null,
            "overflow_y": null,
            "padding": null,
            "right": null,
            "top": null,
            "visibility": null,
            "width": null
          }
        },
        "fa8f0b7adab04d95b339cf08037fd54b": {
          "model_module": "@jupyter-widgets/base",
          "model_name": "LayoutModel",
          "model_module_version": "1.2.0",
          "state": {
            "_model_module": "@jupyter-widgets/base",
            "_model_module_version": "1.2.0",
            "_model_name": "LayoutModel",
            "_view_count": null,
            "_view_module": "@jupyter-widgets/base",
            "_view_module_version": "1.2.0",
            "_view_name": "LayoutView",
            "align_content": null,
            "align_items": null,
            "align_self": null,
            "border": null,
            "bottom": null,
            "display": null,
            "flex": null,
            "flex_flow": null,
            "grid_area": null,
            "grid_auto_columns": null,
            "grid_auto_flow": null,
            "grid_auto_rows": null,
            "grid_column": null,
            "grid_gap": null,
            "grid_row": null,
            "grid_template_areas": null,
            "grid_template_columns": null,
            "grid_template_rows": null,
            "height": null,
            "justify_content": null,
            "justify_items": null,
            "left": null,
            "margin": null,
            "max_height": null,
            "max_width": null,
            "min_height": null,
            "min_width": null,
            "object_fit": null,
            "object_position": null,
            "order": null,
            "overflow": null,
            "overflow_x": null,
            "overflow_y": null,
            "padding": null,
            "right": null,
            "top": null,
            "visibility": null,
            "width": null
          }
        },
        "1d3cd86095494be085d88fd636dda6c5": {
          "model_module": "@jupyter-widgets/controls",
          "model_name": "DescriptionStyleModel",
          "model_module_version": "1.5.0",
          "state": {
            "_model_module": "@jupyter-widgets/controls",
            "_model_module_version": "1.5.0",
            "_model_name": "DescriptionStyleModel",
            "_view_count": null,
            "_view_module": "@jupyter-widgets/base",
            "_view_module_version": "1.2.0",
            "_view_name": "StyleView",
            "description_width": ""
          }
        },
        "923c8292dff043faa3bb1adf7cd1052c": {
          "model_module": "@jupyter-widgets/base",
          "model_name": "LayoutModel",
          "model_module_version": "1.2.0",
          "state": {
            "_model_module": "@jupyter-widgets/base",
            "_model_module_version": "1.2.0",
            "_model_name": "LayoutModel",
            "_view_count": null,
            "_view_module": "@jupyter-widgets/base",
            "_view_module_version": "1.2.0",
            "_view_name": "LayoutView",
            "align_content": null,
            "align_items": null,
            "align_self": null,
            "border": null,
            "bottom": null,
            "display": null,
            "flex": null,
            "flex_flow": null,
            "grid_area": null,
            "grid_auto_columns": null,
            "grid_auto_flow": null,
            "grid_auto_rows": null,
            "grid_column": null,
            "grid_gap": null,
            "grid_row": null,
            "grid_template_areas": null,
            "grid_template_columns": null,
            "grid_template_rows": null,
            "height": null,
            "justify_content": null,
            "justify_items": null,
            "left": null,
            "margin": null,
            "max_height": null,
            "max_width": null,
            "min_height": null,
            "min_width": null,
            "object_fit": null,
            "object_position": null,
            "order": null,
            "overflow": null,
            "overflow_x": null,
            "overflow_y": null,
            "padding": null,
            "right": null,
            "top": null,
            "visibility": null,
            "width": null
          }
        },
        "59bbc85d2cbc4c8db47e2a52d842fa26": {
          "model_module": "@jupyter-widgets/controls",
          "model_name": "ProgressStyleModel",
          "model_module_version": "1.5.0",
          "state": {
            "_model_module": "@jupyter-widgets/controls",
            "_model_module_version": "1.5.0",
            "_model_name": "ProgressStyleModel",
            "_view_count": null,
            "_view_module": "@jupyter-widgets/base",
            "_view_module_version": "1.2.0",
            "_view_name": "StyleView",
            "bar_color": null,
            "description_width": ""
          }
        },
        "034cdd092d8947e89af07161f885bc6c": {
          "model_module": "@jupyter-widgets/base",
          "model_name": "LayoutModel",
          "model_module_version": "1.2.0",
          "state": {
            "_model_module": "@jupyter-widgets/base",
            "_model_module_version": "1.2.0",
            "_model_name": "LayoutModel",
            "_view_count": null,
            "_view_module": "@jupyter-widgets/base",
            "_view_module_version": "1.2.0",
            "_view_name": "LayoutView",
            "align_content": null,
            "align_items": null,
            "align_self": null,
            "border": null,
            "bottom": null,
            "display": null,
            "flex": null,
            "flex_flow": null,
            "grid_area": null,
            "grid_auto_columns": null,
            "grid_auto_flow": null,
            "grid_auto_rows": null,
            "grid_column": null,
            "grid_gap": null,
            "grid_row": null,
            "grid_template_areas": null,
            "grid_template_columns": null,
            "grid_template_rows": null,
            "height": null,
            "justify_content": null,
            "justify_items": null,
            "left": null,
            "margin": null,
            "max_height": null,
            "max_width": null,
            "min_height": null,
            "min_width": null,
            "object_fit": null,
            "object_position": null,
            "order": null,
            "overflow": null,
            "overflow_x": null,
            "overflow_y": null,
            "padding": null,
            "right": null,
            "top": null,
            "visibility": null,
            "width": null
          }
        },
        "fe044d3d1e5f45c08c3a254b03d0ec6e": {
          "model_module": "@jupyter-widgets/controls",
          "model_name": "DescriptionStyleModel",
          "model_module_version": "1.5.0",
          "state": {
            "_model_module": "@jupyter-widgets/controls",
            "_model_module_version": "1.5.0",
            "_model_name": "DescriptionStyleModel",
            "_view_count": null,
            "_view_module": "@jupyter-widgets/base",
            "_view_module_version": "1.2.0",
            "_view_name": "StyleView",
            "description_width": ""
          }
        },
        "c2db47a89fc346a199c0c20c3482111d": {
          "model_module": "@jupyter-widgets/controls",
          "model_name": "HBoxModel",
          "model_module_version": "1.5.0",
          "state": {
            "_dom_classes": [],
            "_model_module": "@jupyter-widgets/controls",
            "_model_module_version": "1.5.0",
            "_model_name": "HBoxModel",
            "_view_count": null,
            "_view_module": "@jupyter-widgets/controls",
            "_view_module_version": "1.5.0",
            "_view_name": "HBoxView",
            "box_style": "",
            "children": [
              "IPY_MODEL_6ee900f9a28c4e34aea3fa32e41c571e",
              "IPY_MODEL_0f0936571b4b4e5ba74a8465a042e3bc",
              "IPY_MODEL_0643feddb30343e2a3d32a526a556437"
            ],
            "layout": "IPY_MODEL_8a5b4509852d4d4d9b7649451b439460"
          }
        },
        "6ee900f9a28c4e34aea3fa32e41c571e": {
          "model_module": "@jupyter-widgets/controls",
          "model_name": "HTMLModel",
          "model_module_version": "1.5.0",
          "state": {
            "_dom_classes": [],
            "_model_module": "@jupyter-widgets/controls",
            "_model_module_version": "1.5.0",
            "_model_name": "HTMLModel",
            "_view_count": null,
            "_view_module": "@jupyter-widgets/controls",
            "_view_module_version": "1.5.0",
            "_view_name": "HTMLView",
            "description": "",
            "description_tooltip": null,
            "layout": "IPY_MODEL_8100f163a8084c6dbdfb935d1269a09b",
            "placeholder": "​",
            "style": "IPY_MODEL_8e8cc8087ac840b3979564d3e96af81d",
            "value": "tokenizer.json: 100%"
          }
        },
        "0f0936571b4b4e5ba74a8465a042e3bc": {
          "model_module": "@jupyter-widgets/controls",
          "model_name": "FloatProgressModel",
          "model_module_version": "1.5.0",
          "state": {
            "_dom_classes": [],
            "_model_module": "@jupyter-widgets/controls",
            "_model_module_version": "1.5.0",
            "_model_name": "FloatProgressModel",
            "_view_count": null,
            "_view_module": "@jupyter-widgets/controls",
            "_view_module_version": "1.5.0",
            "_view_name": "ProgressView",
            "bar_style": "success",
            "description": "",
            "description_tooltip": null,
            "layout": "IPY_MODEL_c73dd42144e441019e26ec2c9917a279",
            "max": 466062,
            "min": 0,
            "orientation": "horizontal",
            "style": "IPY_MODEL_8c981a6dd8fe454fb1c7ff6b6bb2ccb6",
            "value": 466062
          }
        },
        "0643feddb30343e2a3d32a526a556437": {
          "model_module": "@jupyter-widgets/controls",
          "model_name": "HTMLModel",
          "model_module_version": "1.5.0",
          "state": {
            "_dom_classes": [],
            "_model_module": "@jupyter-widgets/controls",
            "_model_module_version": "1.5.0",
            "_model_name": "HTMLModel",
            "_view_count": null,
            "_view_module": "@jupyter-widgets/controls",
            "_view_module_version": "1.5.0",
            "_view_name": "HTMLView",
            "description": "",
            "description_tooltip": null,
            "layout": "IPY_MODEL_ef4a2692422e405db2a7eee9ff3416d9",
            "placeholder": "​",
            "style": "IPY_MODEL_64bcc8d0fc004d27a2f9bb4a6d3ea9a7",
            "value": " 466k/466k [00:00&lt;00:00, 11.3MB/s]"
          }
        },
        "8a5b4509852d4d4d9b7649451b439460": {
          "model_module": "@jupyter-widgets/base",
          "model_name": "LayoutModel",
          "model_module_version": "1.2.0",
          "state": {
            "_model_module": "@jupyter-widgets/base",
            "_model_module_version": "1.2.0",
            "_model_name": "LayoutModel",
            "_view_count": null,
            "_view_module": "@jupyter-widgets/base",
            "_view_module_version": "1.2.0",
            "_view_name": "LayoutView",
            "align_content": null,
            "align_items": null,
            "align_self": null,
            "border": null,
            "bottom": null,
            "display": null,
            "flex": null,
            "flex_flow": null,
            "grid_area": null,
            "grid_auto_columns": null,
            "grid_auto_flow": null,
            "grid_auto_rows": null,
            "grid_column": null,
            "grid_gap": null,
            "grid_row": null,
            "grid_template_areas": null,
            "grid_template_columns": null,
            "grid_template_rows": null,
            "height": null,
            "justify_content": null,
            "justify_items": null,
            "left": null,
            "margin": null,
            "max_height": null,
            "max_width": null,
            "min_height": null,
            "min_width": null,
            "object_fit": null,
            "object_position": null,
            "order": null,
            "overflow": null,
            "overflow_x": null,
            "overflow_y": null,
            "padding": null,
            "right": null,
            "top": null,
            "visibility": null,
            "width": null
          }
        },
        "8100f163a8084c6dbdfb935d1269a09b": {
          "model_module": "@jupyter-widgets/base",
          "model_name": "LayoutModel",
          "model_module_version": "1.2.0",
          "state": {
            "_model_module": "@jupyter-widgets/base",
            "_model_module_version": "1.2.0",
            "_model_name": "LayoutModel",
            "_view_count": null,
            "_view_module": "@jupyter-widgets/base",
            "_view_module_version": "1.2.0",
            "_view_name": "LayoutView",
            "align_content": null,
            "align_items": null,
            "align_self": null,
            "border": null,
            "bottom": null,
            "display": null,
            "flex": null,
            "flex_flow": null,
            "grid_area": null,
            "grid_auto_columns": null,
            "grid_auto_flow": null,
            "grid_auto_rows": null,
            "grid_column": null,
            "grid_gap": null,
            "grid_row": null,
            "grid_template_areas": null,
            "grid_template_columns": null,
            "grid_template_rows": null,
            "height": null,
            "justify_content": null,
            "justify_items": null,
            "left": null,
            "margin": null,
            "max_height": null,
            "max_width": null,
            "min_height": null,
            "min_width": null,
            "object_fit": null,
            "object_position": null,
            "order": null,
            "overflow": null,
            "overflow_x": null,
            "overflow_y": null,
            "padding": null,
            "right": null,
            "top": null,
            "visibility": null,
            "width": null
          }
        },
        "8e8cc8087ac840b3979564d3e96af81d": {
          "model_module": "@jupyter-widgets/controls",
          "model_name": "DescriptionStyleModel",
          "model_module_version": "1.5.0",
          "state": {
            "_model_module": "@jupyter-widgets/controls",
            "_model_module_version": "1.5.0",
            "_model_name": "DescriptionStyleModel",
            "_view_count": null,
            "_view_module": "@jupyter-widgets/base",
            "_view_module_version": "1.2.0",
            "_view_name": "StyleView",
            "description_width": ""
          }
        },
        "c73dd42144e441019e26ec2c9917a279": {
          "model_module": "@jupyter-widgets/base",
          "model_name": "LayoutModel",
          "model_module_version": "1.2.0",
          "state": {
            "_model_module": "@jupyter-widgets/base",
            "_model_module_version": "1.2.0",
            "_model_name": "LayoutModel",
            "_view_count": null,
            "_view_module": "@jupyter-widgets/base",
            "_view_module_version": "1.2.0",
            "_view_name": "LayoutView",
            "align_content": null,
            "align_items": null,
            "align_self": null,
            "border": null,
            "bottom": null,
            "display": null,
            "flex": null,
            "flex_flow": null,
            "grid_area": null,
            "grid_auto_columns": null,
            "grid_auto_flow": null,
            "grid_auto_rows": null,
            "grid_column": null,
            "grid_gap": null,
            "grid_row": null,
            "grid_template_areas": null,
            "grid_template_columns": null,
            "grid_template_rows": null,
            "height": null,
            "justify_content": null,
            "justify_items": null,
            "left": null,
            "margin": null,
            "max_height": null,
            "max_width": null,
            "min_height": null,
            "min_width": null,
            "object_fit": null,
            "object_position": null,
            "order": null,
            "overflow": null,
            "overflow_x": null,
            "overflow_y": null,
            "padding": null,
            "right": null,
            "top": null,
            "visibility": null,
            "width": null
          }
        },
        "8c981a6dd8fe454fb1c7ff6b6bb2ccb6": {
          "model_module": "@jupyter-widgets/controls",
          "model_name": "ProgressStyleModel",
          "model_module_version": "1.5.0",
          "state": {
            "_model_module": "@jupyter-widgets/controls",
            "_model_module_version": "1.5.0",
            "_model_name": "ProgressStyleModel",
            "_view_count": null,
            "_view_module": "@jupyter-widgets/base",
            "_view_module_version": "1.2.0",
            "_view_name": "StyleView",
            "bar_color": null,
            "description_width": ""
          }
        },
        "ef4a2692422e405db2a7eee9ff3416d9": {
          "model_module": "@jupyter-widgets/base",
          "model_name": "LayoutModel",
          "model_module_version": "1.2.0",
          "state": {
            "_model_module": "@jupyter-widgets/base",
            "_model_module_version": "1.2.0",
            "_model_name": "LayoutModel",
            "_view_count": null,
            "_view_module": "@jupyter-widgets/base",
            "_view_module_version": "1.2.0",
            "_view_name": "LayoutView",
            "align_content": null,
            "align_items": null,
            "align_self": null,
            "border": null,
            "bottom": null,
            "display": null,
            "flex": null,
            "flex_flow": null,
            "grid_area": null,
            "grid_auto_columns": null,
            "grid_auto_flow": null,
            "grid_auto_rows": null,
            "grid_column": null,
            "grid_gap": null,
            "grid_row": null,
            "grid_template_areas": null,
            "grid_template_columns": null,
            "grid_template_rows": null,
            "height": null,
            "justify_content": null,
            "justify_items": null,
            "left": null,
            "margin": null,
            "max_height": null,
            "max_width": null,
            "min_height": null,
            "min_width": null,
            "object_fit": null,
            "object_position": null,
            "order": null,
            "overflow": null,
            "overflow_x": null,
            "overflow_y": null,
            "padding": null,
            "right": null,
            "top": null,
            "visibility": null,
            "width": null
          }
        },
        "64bcc8d0fc004d27a2f9bb4a6d3ea9a7": {
          "model_module": "@jupyter-widgets/controls",
          "model_name": "DescriptionStyleModel",
          "model_module_version": "1.5.0",
          "state": {
            "_model_module": "@jupyter-widgets/controls",
            "_model_module_version": "1.5.0",
            "_model_name": "DescriptionStyleModel",
            "_view_count": null,
            "_view_module": "@jupyter-widgets/base",
            "_view_module_version": "1.2.0",
            "_view_name": "StyleView",
            "description_width": ""
          }
        },
        "6d0279a5584d44d3ab4c4a4f311e0507": {
          "model_module": "@jupyter-widgets/controls",
          "model_name": "HBoxModel",
          "model_module_version": "1.5.0",
          "state": {
            "_dom_classes": [],
            "_model_module": "@jupyter-widgets/controls",
            "_model_module_version": "1.5.0",
            "_model_name": "HBoxModel",
            "_view_count": null,
            "_view_module": "@jupyter-widgets/controls",
            "_view_module_version": "1.5.0",
            "_view_name": "HBoxView",
            "box_style": "",
            "children": [
              "IPY_MODEL_21c05b3c390b4764b2ae2f7ee2eefa8e",
              "IPY_MODEL_671fc1014ef842fab5b76e334f125d05",
              "IPY_MODEL_a646e992e6214c5b9400d0c8cab18ba2"
            ],
            "layout": "IPY_MODEL_68991107d71e4098bcf8fc14ab35114b"
          }
        },
        "21c05b3c390b4764b2ae2f7ee2eefa8e": {
          "model_module": "@jupyter-widgets/controls",
          "model_name": "HTMLModel",
          "model_module_version": "1.5.0",
          "state": {
            "_dom_classes": [],
            "_model_module": "@jupyter-widgets/controls",
            "_model_module_version": "1.5.0",
            "_model_name": "HTMLModel",
            "_view_count": null,
            "_view_module": "@jupyter-widgets/controls",
            "_view_module_version": "1.5.0",
            "_view_name": "HTMLView",
            "description": "",
            "description_tooltip": null,
            "layout": "IPY_MODEL_647a200e85ba4d3989178c18424b5905",
            "placeholder": "​",
            "style": "IPY_MODEL_89fb6fc52ce846d8833732ef66a0b5af",
            "value": "config.json: 100%"
          }
        },
        "671fc1014ef842fab5b76e334f125d05": {
          "model_module": "@jupyter-widgets/controls",
          "model_name": "FloatProgressModel",
          "model_module_version": "1.5.0",
          "state": {
            "_dom_classes": [],
            "_model_module": "@jupyter-widgets/controls",
            "_model_module_version": "1.5.0",
            "_model_name": "FloatProgressModel",
            "_view_count": null,
            "_view_module": "@jupyter-widgets/controls",
            "_view_module_version": "1.5.0",
            "_view_name": "ProgressView",
            "bar_style": "success",
            "description": "",
            "description_tooltip": null,
            "layout": "IPY_MODEL_6e91a87acb19469ebd3ca0fb98257b6f",
            "max": 483,
            "min": 0,
            "orientation": "horizontal",
            "style": "IPY_MODEL_90fba1c1af9a4014a3472281e0f4b62e",
            "value": 483
          }
        },
        "a646e992e6214c5b9400d0c8cab18ba2": {
          "model_module": "@jupyter-widgets/controls",
          "model_name": "HTMLModel",
          "model_module_version": "1.5.0",
          "state": {
            "_dom_classes": [],
            "_model_module": "@jupyter-widgets/controls",
            "_model_module_version": "1.5.0",
            "_model_name": "HTMLModel",
            "_view_count": null,
            "_view_module": "@jupyter-widgets/controls",
            "_view_module_version": "1.5.0",
            "_view_name": "HTMLView",
            "description": "",
            "description_tooltip": null,
            "layout": "IPY_MODEL_7b62411ffc9f41c887bab8f797df14d8",
            "placeholder": "​",
            "style": "IPY_MODEL_6f33115405ea45558b36308a32fc5f93",
            "value": " 483/483 [00:00&lt;00:00, 12.1kB/s]"
          }
        },
        "68991107d71e4098bcf8fc14ab35114b": {
          "model_module": "@jupyter-widgets/base",
          "model_name": "LayoutModel",
          "model_module_version": "1.2.0",
          "state": {
            "_model_module": "@jupyter-widgets/base",
            "_model_module_version": "1.2.0",
            "_model_name": "LayoutModel",
            "_view_count": null,
            "_view_module": "@jupyter-widgets/base",
            "_view_module_version": "1.2.0",
            "_view_name": "LayoutView",
            "align_content": null,
            "align_items": null,
            "align_self": null,
            "border": null,
            "bottom": null,
            "display": null,
            "flex": null,
            "flex_flow": null,
            "grid_area": null,
            "grid_auto_columns": null,
            "grid_auto_flow": null,
            "grid_auto_rows": null,
            "grid_column": null,
            "grid_gap": null,
            "grid_row": null,
            "grid_template_areas": null,
            "grid_template_columns": null,
            "grid_template_rows": null,
            "height": null,
            "justify_content": null,
            "justify_items": null,
            "left": null,
            "margin": null,
            "max_height": null,
            "max_width": null,
            "min_height": null,
            "min_width": null,
            "object_fit": null,
            "object_position": null,
            "order": null,
            "overflow": null,
            "overflow_x": null,
            "overflow_y": null,
            "padding": null,
            "right": null,
            "top": null,
            "visibility": null,
            "width": null
          }
        },
        "647a200e85ba4d3989178c18424b5905": {
          "model_module": "@jupyter-widgets/base",
          "model_name": "LayoutModel",
          "model_module_version": "1.2.0",
          "state": {
            "_model_module": "@jupyter-widgets/base",
            "_model_module_version": "1.2.0",
            "_model_name": "LayoutModel",
            "_view_count": null,
            "_view_module": "@jupyter-widgets/base",
            "_view_module_version": "1.2.0",
            "_view_name": "LayoutView",
            "align_content": null,
            "align_items": null,
            "align_self": null,
            "border": null,
            "bottom": null,
            "display": null,
            "flex": null,
            "flex_flow": null,
            "grid_area": null,
            "grid_auto_columns": null,
            "grid_auto_flow": null,
            "grid_auto_rows": null,
            "grid_column": null,
            "grid_gap": null,
            "grid_row": null,
            "grid_template_areas": null,
            "grid_template_columns": null,
            "grid_template_rows": null,
            "height": null,
            "justify_content": null,
            "justify_items": null,
            "left": null,
            "margin": null,
            "max_height": null,
            "max_width": null,
            "min_height": null,
            "min_width": null,
            "object_fit": null,
            "object_position": null,
            "order": null,
            "overflow": null,
            "overflow_x": null,
            "overflow_y": null,
            "padding": null,
            "right": null,
            "top": null,
            "visibility": null,
            "width": null
          }
        },
        "89fb6fc52ce846d8833732ef66a0b5af": {
          "model_module": "@jupyter-widgets/controls",
          "model_name": "DescriptionStyleModel",
          "model_module_version": "1.5.0",
          "state": {
            "_model_module": "@jupyter-widgets/controls",
            "_model_module_version": "1.5.0",
            "_model_name": "DescriptionStyleModel",
            "_view_count": null,
            "_view_module": "@jupyter-widgets/base",
            "_view_module_version": "1.2.0",
            "_view_name": "StyleView",
            "description_width": ""
          }
        },
        "6e91a87acb19469ebd3ca0fb98257b6f": {
          "model_module": "@jupyter-widgets/base",
          "model_name": "LayoutModel",
          "model_module_version": "1.2.0",
          "state": {
            "_model_module": "@jupyter-widgets/base",
            "_model_module_version": "1.2.0",
            "_model_name": "LayoutModel",
            "_view_count": null,
            "_view_module": "@jupyter-widgets/base",
            "_view_module_version": "1.2.0",
            "_view_name": "LayoutView",
            "align_content": null,
            "align_items": null,
            "align_self": null,
            "border": null,
            "bottom": null,
            "display": null,
            "flex": null,
            "flex_flow": null,
            "grid_area": null,
            "grid_auto_columns": null,
            "grid_auto_flow": null,
            "grid_auto_rows": null,
            "grid_column": null,
            "grid_gap": null,
            "grid_row": null,
            "grid_template_areas": null,
            "grid_template_columns": null,
            "grid_template_rows": null,
            "height": null,
            "justify_content": null,
            "justify_items": null,
            "left": null,
            "margin": null,
            "max_height": null,
            "max_width": null,
            "min_height": null,
            "min_width": null,
            "object_fit": null,
            "object_position": null,
            "order": null,
            "overflow": null,
            "overflow_x": null,
            "overflow_y": null,
            "padding": null,
            "right": null,
            "top": null,
            "visibility": null,
            "width": null
          }
        },
        "90fba1c1af9a4014a3472281e0f4b62e": {
          "model_module": "@jupyter-widgets/controls",
          "model_name": "ProgressStyleModel",
          "model_module_version": "1.5.0",
          "state": {
            "_model_module": "@jupyter-widgets/controls",
            "_model_module_version": "1.5.0",
            "_model_name": "ProgressStyleModel",
            "_view_count": null,
            "_view_module": "@jupyter-widgets/base",
            "_view_module_version": "1.2.0",
            "_view_name": "StyleView",
            "bar_color": null,
            "description_width": ""
          }
        },
        "7b62411ffc9f41c887bab8f797df14d8": {
          "model_module": "@jupyter-widgets/base",
          "model_name": "LayoutModel",
          "model_module_version": "1.2.0",
          "state": {
            "_model_module": "@jupyter-widgets/base",
            "_model_module_version": "1.2.0",
            "_model_name": "LayoutModel",
            "_view_count": null,
            "_view_module": "@jupyter-widgets/base",
            "_view_module_version": "1.2.0",
            "_view_name": "LayoutView",
            "align_content": null,
            "align_items": null,
            "align_self": null,
            "border": null,
            "bottom": null,
            "display": null,
            "flex": null,
            "flex_flow": null,
            "grid_area": null,
            "grid_auto_columns": null,
            "grid_auto_flow": null,
            "grid_auto_rows": null,
            "grid_column": null,
            "grid_gap": null,
            "grid_row": null,
            "grid_template_areas": null,
            "grid_template_columns": null,
            "grid_template_rows": null,
            "height": null,
            "justify_content": null,
            "justify_items": null,
            "left": null,
            "margin": null,
            "max_height": null,
            "max_width": null,
            "min_height": null,
            "min_width": null,
            "object_fit": null,
            "object_position": null,
            "order": null,
            "overflow": null,
            "overflow_x": null,
            "overflow_y": null,
            "padding": null,
            "right": null,
            "top": null,
            "visibility": null,
            "width": null
          }
        },
        "6f33115405ea45558b36308a32fc5f93": {
          "model_module": "@jupyter-widgets/controls",
          "model_name": "DescriptionStyleModel",
          "model_module_version": "1.5.0",
          "state": {
            "_model_module": "@jupyter-widgets/controls",
            "_model_module_version": "1.5.0",
            "_model_name": "DescriptionStyleModel",
            "_view_count": null,
            "_view_module": "@jupyter-widgets/base",
            "_view_module_version": "1.2.0",
            "_view_name": "StyleView",
            "description_width": ""
          }
        },
        "8994101e17f2493dac889af5fa7396a7": {
          "model_module": "@jupyter-widgets/controls",
          "model_name": "HBoxModel",
          "model_module_version": "1.5.0",
          "state": {
            "_dom_classes": [],
            "_model_module": "@jupyter-widgets/controls",
            "_model_module_version": "1.5.0",
            "_model_name": "HBoxModel",
            "_view_count": null,
            "_view_module": "@jupyter-widgets/controls",
            "_view_module_version": "1.5.0",
            "_view_name": "HBoxView",
            "box_style": "",
            "children": [
              "IPY_MODEL_293883a16f38432ba741ed3249ffe57b",
              "IPY_MODEL_b0023189e4174a8eb847d9c5cca3fde9",
              "IPY_MODEL_a1bce7ba75924104952ba83be995ef2d"
            ],
            "layout": "IPY_MODEL_75ae66f6e6d24d35b040f5873d592ae0"
          }
        },
        "293883a16f38432ba741ed3249ffe57b": {
          "model_module": "@jupyter-widgets/controls",
          "model_name": "HTMLModel",
          "model_module_version": "1.5.0",
          "state": {
            "_dom_classes": [],
            "_model_module": "@jupyter-widgets/controls",
            "_model_module_version": "1.5.0",
            "_model_name": "HTMLModel",
            "_view_count": null,
            "_view_module": "@jupyter-widgets/controls",
            "_view_module_version": "1.5.0",
            "_view_name": "HTMLView",
            "description": "",
            "description_tooltip": null,
            "layout": "IPY_MODEL_8f7cefe3e2d848ac80a77f7ef91999fd",
            "placeholder": "​",
            "style": "IPY_MODEL_09b41ce503dd4407b62729c15783947e",
            "value": "model.safetensors: 100%"
          }
        },
        "b0023189e4174a8eb847d9c5cca3fde9": {
          "model_module": "@jupyter-widgets/controls",
          "model_name": "FloatProgressModel",
          "model_module_version": "1.5.0",
          "state": {
            "_dom_classes": [],
            "_model_module": "@jupyter-widgets/controls",
            "_model_module_version": "1.5.0",
            "_model_name": "FloatProgressModel",
            "_view_count": null,
            "_view_module": "@jupyter-widgets/controls",
            "_view_module_version": "1.5.0",
            "_view_name": "ProgressView",
            "bar_style": "success",
            "description": "",
            "description_tooltip": null,
            "layout": "IPY_MODEL_c37cbb5360a6484e8004c64dc9e6389a",
            "max": 267954768,
            "min": 0,
            "orientation": "horizontal",
            "style": "IPY_MODEL_fa6d94933ca7478e914dab4d3663dfce",
            "value": 267954768
          }
        },
        "a1bce7ba75924104952ba83be995ef2d": {
          "model_module": "@jupyter-widgets/controls",
          "model_name": "HTMLModel",
          "model_module_version": "1.5.0",
          "state": {
            "_dom_classes": [],
            "_model_module": "@jupyter-widgets/controls",
            "_model_module_version": "1.5.0",
            "_model_name": "HTMLModel",
            "_view_count": null,
            "_view_module": "@jupyter-widgets/controls",
            "_view_module_version": "1.5.0",
            "_view_name": "HTMLView",
            "description": "",
            "description_tooltip": null,
            "layout": "IPY_MODEL_c6de9913b29d43a298a9c43633e002c6",
            "placeholder": "​",
            "style": "IPY_MODEL_703fccb724ef49cd94d7d9314c99b587",
            "value": " 268M/268M [00:05&lt;00:00, 50.1MB/s]"
          }
        },
        "75ae66f6e6d24d35b040f5873d592ae0": {
          "model_module": "@jupyter-widgets/base",
          "model_name": "LayoutModel",
          "model_module_version": "1.2.0",
          "state": {
            "_model_module": "@jupyter-widgets/base",
            "_model_module_version": "1.2.0",
            "_model_name": "LayoutModel",
            "_view_count": null,
            "_view_module": "@jupyter-widgets/base",
            "_view_module_version": "1.2.0",
            "_view_name": "LayoutView",
            "align_content": null,
            "align_items": null,
            "align_self": null,
            "border": null,
            "bottom": null,
            "display": null,
            "flex": null,
            "flex_flow": null,
            "grid_area": null,
            "grid_auto_columns": null,
            "grid_auto_flow": null,
            "grid_auto_rows": null,
            "grid_column": null,
            "grid_gap": null,
            "grid_row": null,
            "grid_template_areas": null,
            "grid_template_columns": null,
            "grid_template_rows": null,
            "height": null,
            "justify_content": null,
            "justify_items": null,
            "left": null,
            "margin": null,
            "max_height": null,
            "max_width": null,
            "min_height": null,
            "min_width": null,
            "object_fit": null,
            "object_position": null,
            "order": null,
            "overflow": null,
            "overflow_x": null,
            "overflow_y": null,
            "padding": null,
            "right": null,
            "top": null,
            "visibility": null,
            "width": null
          }
        },
        "8f7cefe3e2d848ac80a77f7ef91999fd": {
          "model_module": "@jupyter-widgets/base",
          "model_name": "LayoutModel",
          "model_module_version": "1.2.0",
          "state": {
            "_model_module": "@jupyter-widgets/base",
            "_model_module_version": "1.2.0",
            "_model_name": "LayoutModel",
            "_view_count": null,
            "_view_module": "@jupyter-widgets/base",
            "_view_module_version": "1.2.0",
            "_view_name": "LayoutView",
            "align_content": null,
            "align_items": null,
            "align_self": null,
            "border": null,
            "bottom": null,
            "display": null,
            "flex": null,
            "flex_flow": null,
            "grid_area": null,
            "grid_auto_columns": null,
            "grid_auto_flow": null,
            "grid_auto_rows": null,
            "grid_column": null,
            "grid_gap": null,
            "grid_row": null,
            "grid_template_areas": null,
            "grid_template_columns": null,
            "grid_template_rows": null,
            "height": null,
            "justify_content": null,
            "justify_items": null,
            "left": null,
            "margin": null,
            "max_height": null,
            "max_width": null,
            "min_height": null,
            "min_width": null,
            "object_fit": null,
            "object_position": null,
            "order": null,
            "overflow": null,
            "overflow_x": null,
            "overflow_y": null,
            "padding": null,
            "right": null,
            "top": null,
            "visibility": null,
            "width": null
          }
        },
        "09b41ce503dd4407b62729c15783947e": {
          "model_module": "@jupyter-widgets/controls",
          "model_name": "DescriptionStyleModel",
          "model_module_version": "1.5.0",
          "state": {
            "_model_module": "@jupyter-widgets/controls",
            "_model_module_version": "1.5.0",
            "_model_name": "DescriptionStyleModel",
            "_view_count": null,
            "_view_module": "@jupyter-widgets/base",
            "_view_module_version": "1.2.0",
            "_view_name": "StyleView",
            "description_width": ""
          }
        },
        "c37cbb5360a6484e8004c64dc9e6389a": {
          "model_module": "@jupyter-widgets/base",
          "model_name": "LayoutModel",
          "model_module_version": "1.2.0",
          "state": {
            "_model_module": "@jupyter-widgets/base",
            "_model_module_version": "1.2.0",
            "_model_name": "LayoutModel",
            "_view_count": null,
            "_view_module": "@jupyter-widgets/base",
            "_view_module_version": "1.2.0",
            "_view_name": "LayoutView",
            "align_content": null,
            "align_items": null,
            "align_self": null,
            "border": null,
            "bottom": null,
            "display": null,
            "flex": null,
            "flex_flow": null,
            "grid_area": null,
            "grid_auto_columns": null,
            "grid_auto_flow": null,
            "grid_auto_rows": null,
            "grid_column": null,
            "grid_gap": null,
            "grid_row": null,
            "grid_template_areas": null,
            "grid_template_columns": null,
            "grid_template_rows": null,
            "height": null,
            "justify_content": null,
            "justify_items": null,
            "left": null,
            "margin": null,
            "max_height": null,
            "max_width": null,
            "min_height": null,
            "min_width": null,
            "object_fit": null,
            "object_position": null,
            "order": null,
            "overflow": null,
            "overflow_x": null,
            "overflow_y": null,
            "padding": null,
            "right": null,
            "top": null,
            "visibility": null,
            "width": null
          }
        },
        "fa6d94933ca7478e914dab4d3663dfce": {
          "model_module": "@jupyter-widgets/controls",
          "model_name": "ProgressStyleModel",
          "model_module_version": "1.5.0",
          "state": {
            "_model_module": "@jupyter-widgets/controls",
            "_model_module_version": "1.5.0",
            "_model_name": "ProgressStyleModel",
            "_view_count": null,
            "_view_module": "@jupyter-widgets/base",
            "_view_module_version": "1.2.0",
            "_view_name": "StyleView",
            "bar_color": null,
            "description_width": ""
          }
        },
        "c6de9913b29d43a298a9c43633e002c6": {
          "model_module": "@jupyter-widgets/base",
          "model_name": "LayoutModel",
          "model_module_version": "1.2.0",
          "state": {
            "_model_module": "@jupyter-widgets/base",
            "_model_module_version": "1.2.0",
            "_model_name": "LayoutModel",
            "_view_count": null,
            "_view_module": "@jupyter-widgets/base",
            "_view_module_version": "1.2.0",
            "_view_name": "LayoutView",
            "align_content": null,
            "align_items": null,
            "align_self": null,
            "border": null,
            "bottom": null,
            "display": null,
            "flex": null,
            "flex_flow": null,
            "grid_area": null,
            "grid_auto_columns": null,
            "grid_auto_flow": null,
            "grid_auto_rows": null,
            "grid_column": null,
            "grid_gap": null,
            "grid_row": null,
            "grid_template_areas": null,
            "grid_template_columns": null,
            "grid_template_rows": null,
            "height": null,
            "justify_content": null,
            "justify_items": null,
            "left": null,
            "margin": null,
            "max_height": null,
            "max_width": null,
            "min_height": null,
            "min_width": null,
            "object_fit": null,
            "object_position": null,
            "order": null,
            "overflow": null,
            "overflow_x": null,
            "overflow_y": null,
            "padding": null,
            "right": null,
            "top": null,
            "visibility": null,
            "width": null
          }
        },
        "703fccb724ef49cd94d7d9314c99b587": {
          "model_module": "@jupyter-widgets/controls",
          "model_name": "DescriptionStyleModel",
          "model_module_version": "1.5.0",
          "state": {
            "_model_module": "@jupyter-widgets/controls",
            "_model_module_version": "1.5.0",
            "_model_name": "DescriptionStyleModel",
            "_view_count": null,
            "_view_module": "@jupyter-widgets/base",
            "_view_module_version": "1.2.0",
            "_view_name": "StyleView",
            "description_width": ""
          }
        }
      }
    }
  },
  "nbformat": 4,
  "nbformat_minor": 0
}